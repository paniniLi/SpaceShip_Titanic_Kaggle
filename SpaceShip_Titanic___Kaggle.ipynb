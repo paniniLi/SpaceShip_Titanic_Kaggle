{
  "nbformat": 4,
  "nbformat_minor": 0,
  "metadata": {
    "colab": {
      "provenance": [],
      "toc_visible": true
    },
    "kernelspec": {
      "name": "python3",
      "display_name": "Python 3"
    },
    "language_info": {
      "name": "python"
    }
  },
  "cells": [
    {
      "cell_type": "markdown",
      "source": [
        "Добро пожаловать в 2912 год, где ваши навыки работы с данными необходимы для разгадки космической тайны. Мы получили сообщение с расстояния в четыре световых года, и все выглядит не очень хорошо.\n",
        "\n",
        "Космический корабль \"Титаник\" был межзвездным пассажирским лайнером, спущенным на воду месяц назад. С почти 13 000 пассажирами на борту судно отправилось в свой первый рейс, перевозя эмигрантов из нашей Солнечной системы к трем недавно пригодным для жизни экзопланетам, вращающимся вокруг близлежащих звезд.\n",
        "\n",
        "Огибая Альфу Центавра по пути к своему первому пункту назначения — жаркой 55—й орбите Рака - неосторожный космический корабль \"Титаник\" столкнулся с пространственно-временной аномалией, скрытой в пылевом облаке. К сожалению, его постигла та же участь, что и его тезку 1000 лет назад. Хотя корабль остался цел, почти половина пассажиров была перенесена в другое измерение!\n",
        "\n",
        "В этом соревновании ваша задача - предсказать, был ли пассажир перенесен в альтернативное измерение во время столкновения космического корабля \"Титаник\" с пространственно-временной аномалией. Чтобы помочь вам сделать эти прогнозы, вам предоставляется набор личных записей, восстановленных из поврежденной компьютерной системы корабля.\n",
        "\n",
        "\n",
        "Для более подробной информации смотри [ссылку](https://www.kaggle.com/competitions/spaceship-titanic/data)."
      ],
      "metadata": {
        "id": "qWgFn1SjNT2A"
      }
    },
    {
      "cell_type": "code",
      "execution_count": null,
      "metadata": {
        "id": "e-fLshPCMj77"
      },
      "outputs": [],
      "source": [
        "import pandas as pd\n",
        "import pandas as pd\n",
        "import matplotlib.pyplot as plt\n",
        "import seaborn as sns\n",
        "import numpy as np"
      ]
    },
    {
      "cell_type": "code",
      "source": [
        "from google.colab import drive\n",
        "drive.mount('/content/drive')"
      ],
      "metadata": {
        "id": "2Rdx8VHiNuYF",
        "colab": {
          "base_uri": "https://localhost:8080/"
        },
        "outputId": "d01b7ac7-9fd6-4c4c-b9b0-47bc00e06b22"
      },
      "execution_count": null,
      "outputs": [
        {
          "output_type": "stream",
          "name": "stdout",
          "text": [
            "Drive already mounted at /content/drive; to attempt to forcibly remount, call drive.mount(\"/content/drive\", force_remount=True).\n"
          ]
        }
      ]
    },
    {
      "cell_type": "code",
      "source": [
        "train_df = pd.read_csv(\"/content/drive/MyDrive/Colab Notebooks/Проект/SpaceShip Titanic | Kaggle/train.csv\")\n",
        "test_df = pd.read_csv(\"/content/drive/MyDrive/Colab Notebooks/Проект/SpaceShip Titanic | Kaggle/test.csv\")"
      ],
      "metadata": {
        "id": "7Nh3LUolixaj"
      },
      "execution_count": null,
      "outputs": []
    },
    {
      "cell_type": "code",
      "source": [
        "train_df.head()"
      ],
      "metadata": {
        "colab": {
          "base_uri": "https://localhost:8080/",
          "height": 313
        },
        "id": "QFKZ9h-lOKvW",
        "outputId": "988cb792-ecb5-4293-d56e-b4c59f14cc2b"
      },
      "execution_count": null,
      "outputs": [
        {
          "output_type": "execute_result",
          "data": {
            "text/plain": [
              "  PassengerId HomePlanet CryoSleep  Cabin  Destination   Age    VIP  \\\n",
              "0     0001_01     Europa     False  B/0/P  TRAPPIST-1e  39.0  False   \n",
              "1     0002_01      Earth     False  F/0/S  TRAPPIST-1e  24.0  False   \n",
              "2     0003_01     Europa     False  A/0/S  TRAPPIST-1e  58.0   True   \n",
              "3     0003_02     Europa     False  A/0/S  TRAPPIST-1e  33.0  False   \n",
              "4     0004_01      Earth     False  F/1/S  TRAPPIST-1e  16.0  False   \n",
              "\n",
              "   RoomService  FoodCourt  ShoppingMall     Spa  VRDeck               Name  \\\n",
              "0          0.0        0.0           0.0     0.0     0.0    Maham Ofracculy   \n",
              "1        109.0        9.0          25.0   549.0    44.0       Juanna Vines   \n",
              "2         43.0     3576.0           0.0  6715.0    49.0      Altark Susent   \n",
              "3          0.0     1283.0         371.0  3329.0   193.0       Solam Susent   \n",
              "4        303.0       70.0         151.0   565.0     2.0  Willy Santantines   \n",
              "\n",
              "   Transported  \n",
              "0        False  \n",
              "1         True  \n",
              "2        False  \n",
              "3        False  \n",
              "4         True  "
            ],
            "text/html": [
              "\n",
              "  <div id=\"df-792b1e9a-25ee-48e0-aa02-fab4cb26ad6d\" class=\"colab-df-container\">\n",
              "    <div>\n",
              "<style scoped>\n",
              "    .dataframe tbody tr th:only-of-type {\n",
              "        vertical-align: middle;\n",
              "    }\n",
              "\n",
              "    .dataframe tbody tr th {\n",
              "        vertical-align: top;\n",
              "    }\n",
              "\n",
              "    .dataframe thead th {\n",
              "        text-align: right;\n",
              "    }\n",
              "</style>\n",
              "<table border=\"1\" class=\"dataframe\">\n",
              "  <thead>\n",
              "    <tr style=\"text-align: right;\">\n",
              "      <th></th>\n",
              "      <th>PassengerId</th>\n",
              "      <th>HomePlanet</th>\n",
              "      <th>CryoSleep</th>\n",
              "      <th>Cabin</th>\n",
              "      <th>Destination</th>\n",
              "      <th>Age</th>\n",
              "      <th>VIP</th>\n",
              "      <th>RoomService</th>\n",
              "      <th>FoodCourt</th>\n",
              "      <th>ShoppingMall</th>\n",
              "      <th>Spa</th>\n",
              "      <th>VRDeck</th>\n",
              "      <th>Name</th>\n",
              "      <th>Transported</th>\n",
              "    </tr>\n",
              "  </thead>\n",
              "  <tbody>\n",
              "    <tr>\n",
              "      <th>0</th>\n",
              "      <td>0001_01</td>\n",
              "      <td>Europa</td>\n",
              "      <td>False</td>\n",
              "      <td>B/0/P</td>\n",
              "      <td>TRAPPIST-1e</td>\n",
              "      <td>39.0</td>\n",
              "      <td>False</td>\n",
              "      <td>0.0</td>\n",
              "      <td>0.0</td>\n",
              "      <td>0.0</td>\n",
              "      <td>0.0</td>\n",
              "      <td>0.0</td>\n",
              "      <td>Maham Ofracculy</td>\n",
              "      <td>False</td>\n",
              "    </tr>\n",
              "    <tr>\n",
              "      <th>1</th>\n",
              "      <td>0002_01</td>\n",
              "      <td>Earth</td>\n",
              "      <td>False</td>\n",
              "      <td>F/0/S</td>\n",
              "      <td>TRAPPIST-1e</td>\n",
              "      <td>24.0</td>\n",
              "      <td>False</td>\n",
              "      <td>109.0</td>\n",
              "      <td>9.0</td>\n",
              "      <td>25.0</td>\n",
              "      <td>549.0</td>\n",
              "      <td>44.0</td>\n",
              "      <td>Juanna Vines</td>\n",
              "      <td>True</td>\n",
              "    </tr>\n",
              "    <tr>\n",
              "      <th>2</th>\n",
              "      <td>0003_01</td>\n",
              "      <td>Europa</td>\n",
              "      <td>False</td>\n",
              "      <td>A/0/S</td>\n",
              "      <td>TRAPPIST-1e</td>\n",
              "      <td>58.0</td>\n",
              "      <td>True</td>\n",
              "      <td>43.0</td>\n",
              "      <td>3576.0</td>\n",
              "      <td>0.0</td>\n",
              "      <td>6715.0</td>\n",
              "      <td>49.0</td>\n",
              "      <td>Altark Susent</td>\n",
              "      <td>False</td>\n",
              "    </tr>\n",
              "    <tr>\n",
              "      <th>3</th>\n",
              "      <td>0003_02</td>\n",
              "      <td>Europa</td>\n",
              "      <td>False</td>\n",
              "      <td>A/0/S</td>\n",
              "      <td>TRAPPIST-1e</td>\n",
              "      <td>33.0</td>\n",
              "      <td>False</td>\n",
              "      <td>0.0</td>\n",
              "      <td>1283.0</td>\n",
              "      <td>371.0</td>\n",
              "      <td>3329.0</td>\n",
              "      <td>193.0</td>\n",
              "      <td>Solam Susent</td>\n",
              "      <td>False</td>\n",
              "    </tr>\n",
              "    <tr>\n",
              "      <th>4</th>\n",
              "      <td>0004_01</td>\n",
              "      <td>Earth</td>\n",
              "      <td>False</td>\n",
              "      <td>F/1/S</td>\n",
              "      <td>TRAPPIST-1e</td>\n",
              "      <td>16.0</td>\n",
              "      <td>False</td>\n",
              "      <td>303.0</td>\n",
              "      <td>70.0</td>\n",
              "      <td>151.0</td>\n",
              "      <td>565.0</td>\n",
              "      <td>2.0</td>\n",
              "      <td>Willy Santantines</td>\n",
              "      <td>True</td>\n",
              "    </tr>\n",
              "  </tbody>\n",
              "</table>\n",
              "</div>\n",
              "    <div class=\"colab-df-buttons\">\n",
              "\n",
              "  <div class=\"colab-df-container\">\n",
              "    <button class=\"colab-df-convert\" onclick=\"convertToInteractive('df-792b1e9a-25ee-48e0-aa02-fab4cb26ad6d')\"\n",
              "            title=\"Convert this dataframe to an interactive table.\"\n",
              "            style=\"display:none;\">\n",
              "\n",
              "  <svg xmlns=\"http://www.w3.org/2000/svg\" height=\"24px\" viewBox=\"0 -960 960 960\">\n",
              "    <path d=\"M120-120v-720h720v720H120Zm60-500h600v-160H180v160Zm220 220h160v-160H400v160Zm0 220h160v-160H400v160ZM180-400h160v-160H180v160Zm440 0h160v-160H620v160ZM180-180h160v-160H180v160Zm440 0h160v-160H620v160Z\"/>\n",
              "  </svg>\n",
              "    </button>\n",
              "\n",
              "  <style>\n",
              "    .colab-df-container {\n",
              "      display:flex;\n",
              "      gap: 12px;\n",
              "    }\n",
              "\n",
              "    .colab-df-convert {\n",
              "      background-color: #E8F0FE;\n",
              "      border: none;\n",
              "      border-radius: 50%;\n",
              "      cursor: pointer;\n",
              "      display: none;\n",
              "      fill: #1967D2;\n",
              "      height: 32px;\n",
              "      padding: 0 0 0 0;\n",
              "      width: 32px;\n",
              "    }\n",
              "\n",
              "    .colab-df-convert:hover {\n",
              "      background-color: #E2EBFA;\n",
              "      box-shadow: 0px 1px 2px rgba(60, 64, 67, 0.3), 0px 1px 3px 1px rgba(60, 64, 67, 0.15);\n",
              "      fill: #174EA6;\n",
              "    }\n",
              "\n",
              "    .colab-df-buttons div {\n",
              "      margin-bottom: 4px;\n",
              "    }\n",
              "\n",
              "    [theme=dark] .colab-df-convert {\n",
              "      background-color: #3B4455;\n",
              "      fill: #D2E3FC;\n",
              "    }\n",
              "\n",
              "    [theme=dark] .colab-df-convert:hover {\n",
              "      background-color: #434B5C;\n",
              "      box-shadow: 0px 1px 3px 1px rgba(0, 0, 0, 0.15);\n",
              "      filter: drop-shadow(0px 1px 2px rgba(0, 0, 0, 0.3));\n",
              "      fill: #FFFFFF;\n",
              "    }\n",
              "  </style>\n",
              "\n",
              "    <script>\n",
              "      const buttonEl =\n",
              "        document.querySelector('#df-792b1e9a-25ee-48e0-aa02-fab4cb26ad6d button.colab-df-convert');\n",
              "      buttonEl.style.display =\n",
              "        google.colab.kernel.accessAllowed ? 'block' : 'none';\n",
              "\n",
              "      async function convertToInteractive(key) {\n",
              "        const element = document.querySelector('#df-792b1e9a-25ee-48e0-aa02-fab4cb26ad6d');\n",
              "        const dataTable =\n",
              "          await google.colab.kernel.invokeFunction('convertToInteractive',\n",
              "                                                    [key], {});\n",
              "        if (!dataTable) return;\n",
              "\n",
              "        const docLinkHtml = 'Like what you see? Visit the ' +\n",
              "          '<a target=\"_blank\" href=https://colab.research.google.com/notebooks/data_table.ipynb>data table notebook</a>'\n",
              "          + ' to learn more about interactive tables.';\n",
              "        element.innerHTML = '';\n",
              "        dataTable['output_type'] = 'display_data';\n",
              "        await google.colab.output.renderOutput(dataTable, element);\n",
              "        const docLink = document.createElement('div');\n",
              "        docLink.innerHTML = docLinkHtml;\n",
              "        element.appendChild(docLink);\n",
              "      }\n",
              "    </script>\n",
              "  </div>\n",
              "\n",
              "\n",
              "<div id=\"df-ef221be6-18e9-405e-a91a-525e0dc470d0\">\n",
              "  <button class=\"colab-df-quickchart\" onclick=\"quickchart('df-ef221be6-18e9-405e-a91a-525e0dc470d0')\"\n",
              "            title=\"Suggest charts\"\n",
              "            style=\"display:none;\">\n",
              "\n",
              "<svg xmlns=\"http://www.w3.org/2000/svg\" height=\"24px\"viewBox=\"0 0 24 24\"\n",
              "     width=\"24px\">\n",
              "    <g>\n",
              "        <path d=\"M19 3H5c-1.1 0-2 .9-2 2v14c0 1.1.9 2 2 2h14c1.1 0 2-.9 2-2V5c0-1.1-.9-2-2-2zM9 17H7v-7h2v7zm4 0h-2V7h2v10zm4 0h-2v-4h2v4z\"/>\n",
              "    </g>\n",
              "</svg>\n",
              "  </button>\n",
              "\n",
              "<style>\n",
              "  .colab-df-quickchart {\n",
              "      --bg-color: #E8F0FE;\n",
              "      --fill-color: #1967D2;\n",
              "      --hover-bg-color: #E2EBFA;\n",
              "      --hover-fill-color: #174EA6;\n",
              "      --disabled-fill-color: #AAA;\n",
              "      --disabled-bg-color: #DDD;\n",
              "  }\n",
              "\n",
              "  [theme=dark] .colab-df-quickchart {\n",
              "      --bg-color: #3B4455;\n",
              "      --fill-color: #D2E3FC;\n",
              "      --hover-bg-color: #434B5C;\n",
              "      --hover-fill-color: #FFFFFF;\n",
              "      --disabled-bg-color: #3B4455;\n",
              "      --disabled-fill-color: #666;\n",
              "  }\n",
              "\n",
              "  .colab-df-quickchart {\n",
              "    background-color: var(--bg-color);\n",
              "    border: none;\n",
              "    border-radius: 50%;\n",
              "    cursor: pointer;\n",
              "    display: none;\n",
              "    fill: var(--fill-color);\n",
              "    height: 32px;\n",
              "    padding: 0;\n",
              "    width: 32px;\n",
              "  }\n",
              "\n",
              "  .colab-df-quickchart:hover {\n",
              "    background-color: var(--hover-bg-color);\n",
              "    box-shadow: 0 1px 2px rgba(60, 64, 67, 0.3), 0 1px 3px 1px rgba(60, 64, 67, 0.15);\n",
              "    fill: var(--button-hover-fill-color);\n",
              "  }\n",
              "\n",
              "  .colab-df-quickchart-complete:disabled,\n",
              "  .colab-df-quickchart-complete:disabled:hover {\n",
              "    background-color: var(--disabled-bg-color);\n",
              "    fill: var(--disabled-fill-color);\n",
              "    box-shadow: none;\n",
              "  }\n",
              "\n",
              "  .colab-df-spinner {\n",
              "    border: 2px solid var(--fill-color);\n",
              "    border-color: transparent;\n",
              "    border-bottom-color: var(--fill-color);\n",
              "    animation:\n",
              "      spin 1s steps(1) infinite;\n",
              "  }\n",
              "\n",
              "  @keyframes spin {\n",
              "    0% {\n",
              "      border-color: transparent;\n",
              "      border-bottom-color: var(--fill-color);\n",
              "      border-left-color: var(--fill-color);\n",
              "    }\n",
              "    20% {\n",
              "      border-color: transparent;\n",
              "      border-left-color: var(--fill-color);\n",
              "      border-top-color: var(--fill-color);\n",
              "    }\n",
              "    30% {\n",
              "      border-color: transparent;\n",
              "      border-left-color: var(--fill-color);\n",
              "      border-top-color: var(--fill-color);\n",
              "      border-right-color: var(--fill-color);\n",
              "    }\n",
              "    40% {\n",
              "      border-color: transparent;\n",
              "      border-right-color: var(--fill-color);\n",
              "      border-top-color: var(--fill-color);\n",
              "    }\n",
              "    60% {\n",
              "      border-color: transparent;\n",
              "      border-right-color: var(--fill-color);\n",
              "    }\n",
              "    80% {\n",
              "      border-color: transparent;\n",
              "      border-right-color: var(--fill-color);\n",
              "      border-bottom-color: var(--fill-color);\n",
              "    }\n",
              "    90% {\n",
              "      border-color: transparent;\n",
              "      border-bottom-color: var(--fill-color);\n",
              "    }\n",
              "  }\n",
              "</style>\n",
              "\n",
              "  <script>\n",
              "    async function quickchart(key) {\n",
              "      const quickchartButtonEl =\n",
              "        document.querySelector('#' + key + ' button');\n",
              "      quickchartButtonEl.disabled = true;  // To prevent multiple clicks.\n",
              "      quickchartButtonEl.classList.add('colab-df-spinner');\n",
              "      try {\n",
              "        const charts = await google.colab.kernel.invokeFunction(\n",
              "            'suggestCharts', [key], {});\n",
              "      } catch (error) {\n",
              "        console.error('Error during call to suggestCharts:', error);\n",
              "      }\n",
              "      quickchartButtonEl.classList.remove('colab-df-spinner');\n",
              "      quickchartButtonEl.classList.add('colab-df-quickchart-complete');\n",
              "    }\n",
              "    (() => {\n",
              "      let quickchartButtonEl =\n",
              "        document.querySelector('#df-ef221be6-18e9-405e-a91a-525e0dc470d0 button');\n",
              "      quickchartButtonEl.style.display =\n",
              "        google.colab.kernel.accessAllowed ? 'block' : 'none';\n",
              "    })();\n",
              "  </script>\n",
              "</div>\n",
              "    </div>\n",
              "  </div>\n"
            ]
          },
          "metadata": {},
          "execution_count": 318
        }
      ]
    },
    {
      "cell_type": "code",
      "source": [
        "train_df.describe()"
      ],
      "metadata": {
        "colab": {
          "base_uri": "https://localhost:8080/",
          "height": 300
        },
        "id": "Za4Lz2zviyp6",
        "outputId": "b343b801-8efd-43c7-a7b6-410356199143"
      },
      "execution_count": null,
      "outputs": [
        {
          "output_type": "execute_result",
          "data": {
            "text/plain": [
              "               Age   RoomService     FoodCourt  ShoppingMall           Spa  \\\n",
              "count  8514.000000   8512.000000   8510.000000   8485.000000   8510.000000   \n",
              "mean     28.827930    224.687617    458.077203    173.729169    311.138778   \n",
              "std      14.489021    666.717663   1611.489240    604.696458   1136.705535   \n",
              "min       0.000000      0.000000      0.000000      0.000000      0.000000   \n",
              "25%      19.000000      0.000000      0.000000      0.000000      0.000000   \n",
              "50%      27.000000      0.000000      0.000000      0.000000      0.000000   \n",
              "75%      38.000000     47.000000     76.000000     27.000000     59.000000   \n",
              "max      79.000000  14327.000000  29813.000000  23492.000000  22408.000000   \n",
              "\n",
              "             VRDeck  \n",
              "count   8505.000000  \n",
              "mean     304.854791  \n",
              "std     1145.717189  \n",
              "min        0.000000  \n",
              "25%        0.000000  \n",
              "50%        0.000000  \n",
              "75%       46.000000  \n",
              "max    24133.000000  "
            ],
            "text/html": [
              "\n",
              "  <div id=\"df-5047acff-68ae-44e5-b1bd-a42987b53c74\" class=\"colab-df-container\">\n",
              "    <div>\n",
              "<style scoped>\n",
              "    .dataframe tbody tr th:only-of-type {\n",
              "        vertical-align: middle;\n",
              "    }\n",
              "\n",
              "    .dataframe tbody tr th {\n",
              "        vertical-align: top;\n",
              "    }\n",
              "\n",
              "    .dataframe thead th {\n",
              "        text-align: right;\n",
              "    }\n",
              "</style>\n",
              "<table border=\"1\" class=\"dataframe\">\n",
              "  <thead>\n",
              "    <tr style=\"text-align: right;\">\n",
              "      <th></th>\n",
              "      <th>Age</th>\n",
              "      <th>RoomService</th>\n",
              "      <th>FoodCourt</th>\n",
              "      <th>ShoppingMall</th>\n",
              "      <th>Spa</th>\n",
              "      <th>VRDeck</th>\n",
              "    </tr>\n",
              "  </thead>\n",
              "  <tbody>\n",
              "    <tr>\n",
              "      <th>count</th>\n",
              "      <td>8514.000000</td>\n",
              "      <td>8512.000000</td>\n",
              "      <td>8510.000000</td>\n",
              "      <td>8485.000000</td>\n",
              "      <td>8510.000000</td>\n",
              "      <td>8505.000000</td>\n",
              "    </tr>\n",
              "    <tr>\n",
              "      <th>mean</th>\n",
              "      <td>28.827930</td>\n",
              "      <td>224.687617</td>\n",
              "      <td>458.077203</td>\n",
              "      <td>173.729169</td>\n",
              "      <td>311.138778</td>\n",
              "      <td>304.854791</td>\n",
              "    </tr>\n",
              "    <tr>\n",
              "      <th>std</th>\n",
              "      <td>14.489021</td>\n",
              "      <td>666.717663</td>\n",
              "      <td>1611.489240</td>\n",
              "      <td>604.696458</td>\n",
              "      <td>1136.705535</td>\n",
              "      <td>1145.717189</td>\n",
              "    </tr>\n",
              "    <tr>\n",
              "      <th>min</th>\n",
              "      <td>0.000000</td>\n",
              "      <td>0.000000</td>\n",
              "      <td>0.000000</td>\n",
              "      <td>0.000000</td>\n",
              "      <td>0.000000</td>\n",
              "      <td>0.000000</td>\n",
              "    </tr>\n",
              "    <tr>\n",
              "      <th>25%</th>\n",
              "      <td>19.000000</td>\n",
              "      <td>0.000000</td>\n",
              "      <td>0.000000</td>\n",
              "      <td>0.000000</td>\n",
              "      <td>0.000000</td>\n",
              "      <td>0.000000</td>\n",
              "    </tr>\n",
              "    <tr>\n",
              "      <th>50%</th>\n",
              "      <td>27.000000</td>\n",
              "      <td>0.000000</td>\n",
              "      <td>0.000000</td>\n",
              "      <td>0.000000</td>\n",
              "      <td>0.000000</td>\n",
              "      <td>0.000000</td>\n",
              "    </tr>\n",
              "    <tr>\n",
              "      <th>75%</th>\n",
              "      <td>38.000000</td>\n",
              "      <td>47.000000</td>\n",
              "      <td>76.000000</td>\n",
              "      <td>27.000000</td>\n",
              "      <td>59.000000</td>\n",
              "      <td>46.000000</td>\n",
              "    </tr>\n",
              "    <tr>\n",
              "      <th>max</th>\n",
              "      <td>79.000000</td>\n",
              "      <td>14327.000000</td>\n",
              "      <td>29813.000000</td>\n",
              "      <td>23492.000000</td>\n",
              "      <td>22408.000000</td>\n",
              "      <td>24133.000000</td>\n",
              "    </tr>\n",
              "  </tbody>\n",
              "</table>\n",
              "</div>\n",
              "    <div class=\"colab-df-buttons\">\n",
              "\n",
              "  <div class=\"colab-df-container\">\n",
              "    <button class=\"colab-df-convert\" onclick=\"convertToInteractive('df-5047acff-68ae-44e5-b1bd-a42987b53c74')\"\n",
              "            title=\"Convert this dataframe to an interactive table.\"\n",
              "            style=\"display:none;\">\n",
              "\n",
              "  <svg xmlns=\"http://www.w3.org/2000/svg\" height=\"24px\" viewBox=\"0 -960 960 960\">\n",
              "    <path d=\"M120-120v-720h720v720H120Zm60-500h600v-160H180v160Zm220 220h160v-160H400v160Zm0 220h160v-160H400v160ZM180-400h160v-160H180v160Zm440 0h160v-160H620v160ZM180-180h160v-160H180v160Zm440 0h160v-160H620v160Z\"/>\n",
              "  </svg>\n",
              "    </button>\n",
              "\n",
              "  <style>\n",
              "    .colab-df-container {\n",
              "      display:flex;\n",
              "      gap: 12px;\n",
              "    }\n",
              "\n",
              "    .colab-df-convert {\n",
              "      background-color: #E8F0FE;\n",
              "      border: none;\n",
              "      border-radius: 50%;\n",
              "      cursor: pointer;\n",
              "      display: none;\n",
              "      fill: #1967D2;\n",
              "      height: 32px;\n",
              "      padding: 0 0 0 0;\n",
              "      width: 32px;\n",
              "    }\n",
              "\n",
              "    .colab-df-convert:hover {\n",
              "      background-color: #E2EBFA;\n",
              "      box-shadow: 0px 1px 2px rgba(60, 64, 67, 0.3), 0px 1px 3px 1px rgba(60, 64, 67, 0.15);\n",
              "      fill: #174EA6;\n",
              "    }\n",
              "\n",
              "    .colab-df-buttons div {\n",
              "      margin-bottom: 4px;\n",
              "    }\n",
              "\n",
              "    [theme=dark] .colab-df-convert {\n",
              "      background-color: #3B4455;\n",
              "      fill: #D2E3FC;\n",
              "    }\n",
              "\n",
              "    [theme=dark] .colab-df-convert:hover {\n",
              "      background-color: #434B5C;\n",
              "      box-shadow: 0px 1px 3px 1px rgba(0, 0, 0, 0.15);\n",
              "      filter: drop-shadow(0px 1px 2px rgba(0, 0, 0, 0.3));\n",
              "      fill: #FFFFFF;\n",
              "    }\n",
              "  </style>\n",
              "\n",
              "    <script>\n",
              "      const buttonEl =\n",
              "        document.querySelector('#df-5047acff-68ae-44e5-b1bd-a42987b53c74 button.colab-df-convert');\n",
              "      buttonEl.style.display =\n",
              "        google.colab.kernel.accessAllowed ? 'block' : 'none';\n",
              "\n",
              "      async function convertToInteractive(key) {\n",
              "        const element = document.querySelector('#df-5047acff-68ae-44e5-b1bd-a42987b53c74');\n",
              "        const dataTable =\n",
              "          await google.colab.kernel.invokeFunction('convertToInteractive',\n",
              "                                                    [key], {});\n",
              "        if (!dataTable) return;\n",
              "\n",
              "        const docLinkHtml = 'Like what you see? Visit the ' +\n",
              "          '<a target=\"_blank\" href=https://colab.research.google.com/notebooks/data_table.ipynb>data table notebook</a>'\n",
              "          + ' to learn more about interactive tables.';\n",
              "        element.innerHTML = '';\n",
              "        dataTable['output_type'] = 'display_data';\n",
              "        await google.colab.output.renderOutput(dataTable, element);\n",
              "        const docLink = document.createElement('div');\n",
              "        docLink.innerHTML = docLinkHtml;\n",
              "        element.appendChild(docLink);\n",
              "      }\n",
              "    </script>\n",
              "  </div>\n",
              "\n",
              "\n",
              "<div id=\"df-ba1e8144-1926-4833-b9a1-57dad46ee0b7\">\n",
              "  <button class=\"colab-df-quickchart\" onclick=\"quickchart('df-ba1e8144-1926-4833-b9a1-57dad46ee0b7')\"\n",
              "            title=\"Suggest charts\"\n",
              "            style=\"display:none;\">\n",
              "\n",
              "<svg xmlns=\"http://www.w3.org/2000/svg\" height=\"24px\"viewBox=\"0 0 24 24\"\n",
              "     width=\"24px\">\n",
              "    <g>\n",
              "        <path d=\"M19 3H5c-1.1 0-2 .9-2 2v14c0 1.1.9 2 2 2h14c1.1 0 2-.9 2-2V5c0-1.1-.9-2-2-2zM9 17H7v-7h2v7zm4 0h-2V7h2v10zm4 0h-2v-4h2v4z\"/>\n",
              "    </g>\n",
              "</svg>\n",
              "  </button>\n",
              "\n",
              "<style>\n",
              "  .colab-df-quickchart {\n",
              "      --bg-color: #E8F0FE;\n",
              "      --fill-color: #1967D2;\n",
              "      --hover-bg-color: #E2EBFA;\n",
              "      --hover-fill-color: #174EA6;\n",
              "      --disabled-fill-color: #AAA;\n",
              "      --disabled-bg-color: #DDD;\n",
              "  }\n",
              "\n",
              "  [theme=dark] .colab-df-quickchart {\n",
              "      --bg-color: #3B4455;\n",
              "      --fill-color: #D2E3FC;\n",
              "      --hover-bg-color: #434B5C;\n",
              "      --hover-fill-color: #FFFFFF;\n",
              "      --disabled-bg-color: #3B4455;\n",
              "      --disabled-fill-color: #666;\n",
              "  }\n",
              "\n",
              "  .colab-df-quickchart {\n",
              "    background-color: var(--bg-color);\n",
              "    border: none;\n",
              "    border-radius: 50%;\n",
              "    cursor: pointer;\n",
              "    display: none;\n",
              "    fill: var(--fill-color);\n",
              "    height: 32px;\n",
              "    padding: 0;\n",
              "    width: 32px;\n",
              "  }\n",
              "\n",
              "  .colab-df-quickchart:hover {\n",
              "    background-color: var(--hover-bg-color);\n",
              "    box-shadow: 0 1px 2px rgba(60, 64, 67, 0.3), 0 1px 3px 1px rgba(60, 64, 67, 0.15);\n",
              "    fill: var(--button-hover-fill-color);\n",
              "  }\n",
              "\n",
              "  .colab-df-quickchart-complete:disabled,\n",
              "  .colab-df-quickchart-complete:disabled:hover {\n",
              "    background-color: var(--disabled-bg-color);\n",
              "    fill: var(--disabled-fill-color);\n",
              "    box-shadow: none;\n",
              "  }\n",
              "\n",
              "  .colab-df-spinner {\n",
              "    border: 2px solid var(--fill-color);\n",
              "    border-color: transparent;\n",
              "    border-bottom-color: var(--fill-color);\n",
              "    animation:\n",
              "      spin 1s steps(1) infinite;\n",
              "  }\n",
              "\n",
              "  @keyframes spin {\n",
              "    0% {\n",
              "      border-color: transparent;\n",
              "      border-bottom-color: var(--fill-color);\n",
              "      border-left-color: var(--fill-color);\n",
              "    }\n",
              "    20% {\n",
              "      border-color: transparent;\n",
              "      border-left-color: var(--fill-color);\n",
              "      border-top-color: var(--fill-color);\n",
              "    }\n",
              "    30% {\n",
              "      border-color: transparent;\n",
              "      border-left-color: var(--fill-color);\n",
              "      border-top-color: var(--fill-color);\n",
              "      border-right-color: var(--fill-color);\n",
              "    }\n",
              "    40% {\n",
              "      border-color: transparent;\n",
              "      border-right-color: var(--fill-color);\n",
              "      border-top-color: var(--fill-color);\n",
              "    }\n",
              "    60% {\n",
              "      border-color: transparent;\n",
              "      border-right-color: var(--fill-color);\n",
              "    }\n",
              "    80% {\n",
              "      border-color: transparent;\n",
              "      border-right-color: var(--fill-color);\n",
              "      border-bottom-color: var(--fill-color);\n",
              "    }\n",
              "    90% {\n",
              "      border-color: transparent;\n",
              "      border-bottom-color: var(--fill-color);\n",
              "    }\n",
              "  }\n",
              "</style>\n",
              "\n",
              "  <script>\n",
              "    async function quickchart(key) {\n",
              "      const quickchartButtonEl =\n",
              "        document.querySelector('#' + key + ' button');\n",
              "      quickchartButtonEl.disabled = true;  // To prevent multiple clicks.\n",
              "      quickchartButtonEl.classList.add('colab-df-spinner');\n",
              "      try {\n",
              "        const charts = await google.colab.kernel.invokeFunction(\n",
              "            'suggestCharts', [key], {});\n",
              "      } catch (error) {\n",
              "        console.error('Error during call to suggestCharts:', error);\n",
              "      }\n",
              "      quickchartButtonEl.classList.remove('colab-df-spinner');\n",
              "      quickchartButtonEl.classList.add('colab-df-quickchart-complete');\n",
              "    }\n",
              "    (() => {\n",
              "      let quickchartButtonEl =\n",
              "        document.querySelector('#df-ba1e8144-1926-4833-b9a1-57dad46ee0b7 button');\n",
              "      quickchartButtonEl.style.display =\n",
              "        google.colab.kernel.accessAllowed ? 'block' : 'none';\n",
              "    })();\n",
              "  </script>\n",
              "</div>\n",
              "    </div>\n",
              "  </div>\n"
            ]
          },
          "metadata": {},
          "execution_count": 319
        }
      ]
    },
    {
      "cell_type": "markdown",
      "source": [
        "# Изучение структуры данных"
      ],
      "metadata": {
        "id": "kx7GCKpE3FwP"
      }
    },
    {
      "cell_type": "markdown",
      "source": [
        "Проверим, насколько сбалансирован dataset по отношению к данным столбца 'Transported'."
      ],
      "metadata": {
        "id": "-w0YFp8o3fNi"
      }
    },
    {
      "cell_type": "code",
      "source": [
        "plt.figure(figsize=(10,6))\n",
        "plt.pie(train_df[\"Transported\"].value_counts(),labels=train_df[\"Transported\"].value_counts().keys()[::-1],autopct=\"%1.1f%%\",\n",
        "       textprops={\"fontsize\":20,\"fontweight\":\"black\"},colors=sns.color_palette(\"Set1\"))\n",
        "plt.title(\"Transported Feature Distribution\");"
      ],
      "metadata": {
        "colab": {
          "base_uri": "https://localhost:8080/",
          "height": 521
        },
        "id": "O8EutYIN3IoT",
        "outputId": "59889e60-ca7e-47f1-f995-fa076fd66303"
      },
      "execution_count": null,
      "outputs": [
        {
          "output_type": "display_data",
          "data": {
            "text/plain": [
              "<Figure size 1000x600 with 1 Axes>"
            ],
            "image/png": "[encoded data removed]"
          },
          "metadata": {}
        }
      ]
    },
    {
      "cell_type": "markdown",
      "source": [
        "Данные сбалансированы, следовательно различные виды сэмплирования применять не нужно. Далее посмотрим, какие столбцы необработанных данных наиболее тесно связаны с значениями столбца 'Transported'."
      ],
      "metadata": {
        "id": "zbdznRz_4-Pg"
      }
    },
    {
      "cell_type": "code",
      "source": [
        "plt.figure(figsize=(16,6))\n",
        "sns.histplot(x=train_df[\"Age\"],hue=\"Transported\",data=train_df,kde=True,palette=\"Set1\")\n",
        "plt.title(\"Age Feature Distribution\");\n",
        "plt.grid()"
      ],
      "metadata": {
        "colab": {
          "base_uri": "https://localhost:8080/",
          "height": 467
        },
        "id": "y37cwq5T6Fb5",
        "outputId": "e385cf0c-6bf1-4e68-cc45-1ca8b6b2ba6b"
      },
      "execution_count": null,
      "outputs": [
        {
          "output_type": "display_data",
          "data": {
            "text/plain": [
              "<Figure size 1600x600 with 1 Axes>"
            ],
            "image/png": "[encoded data removed]"
          },
          "metadata": {}
        }
      ]
    },
    {
      "cell_type": "markdown",
      "source": [
        "Можем заметить следующие особенности:\n",
        "\n",
        "*   Значение 'True' в столбце 'Transported' у детей до (примерно) 18 лет преобладает над значением 'False';\n",
        "*   Значение 'False' в столбце 'Transported' у взрослых от 18 до 44 преобладает над значением 'True';\n",
        "*   У пассажиров старше 44 количество значений 'False' и 'True' примерно равно.\n",
        "\n",
        "\n",
        "Таким образом, выделим 3 категории пассажиров в соответствии с распределем на диаграмме выше возьмем примерные границы разделения - 18 лет и 44 года."
      ],
      "metadata": {
        "id": "80-VgUk78GYN"
      }
    },
    {
      "cell_type": "code",
      "source": [
        "def age_group(age):\n",
        "  if age==None:\n",
        "    return \"NONE\"\n",
        "  elif age < 18:\n",
        "    return \"YOUNG\"\n",
        "  elif age < 44:\n",
        "    return \"ADULT\"\n",
        "  else: return \"ELDERY\""
      ],
      "metadata": {
        "id": "UpF4IZh-Fuhh"
      },
      "execution_count": null,
      "outputs": []
    },
    {
      "cell_type": "code",
      "source": [
        "train_df['AgeGroup'] = train_df['Age'].apply(lambda age: age_group(age))\n",
        "train_df.head()"
      ],
      "metadata": {
        "colab": {
          "base_uri": "https://localhost:8080/",
          "height": 313
        },
        "id": "-hngHrp2FJ4C",
        "outputId": "c6d318d8-c504-44f3-c221-eae40304ff06"
      },
      "execution_count": null,
      "outputs": [
        {
          "output_type": "execute_result",
          "data": {
            "text/plain": [
              "  PassengerId HomePlanet CryoSleep  Cabin  Destination   Age    VIP  \\\n",
              "0     0001_01     Europa     False  B/0/P  TRAPPIST-1e  39.0  False   \n",
              "1     0002_01      Earth     False  F/0/S  TRAPPIST-1e  24.0  False   \n",
              "2     0003_01     Europa     False  A/0/S  TRAPPIST-1e  58.0   True   \n",
              "3     0003_02     Europa     False  A/0/S  TRAPPIST-1e  33.0  False   \n",
              "4     0004_01      Earth     False  F/1/S  TRAPPIST-1e  16.0  False   \n",
              "\n",
              "   RoomService  FoodCourt  ShoppingMall     Spa  VRDeck               Name  \\\n",
              "0          0.0        0.0           0.0     0.0     0.0    Maham Ofracculy   \n",
              "1        109.0        9.0          25.0   549.0    44.0       Juanna Vines   \n",
              "2         43.0     3576.0           0.0  6715.0    49.0      Altark Susent   \n",
              "3          0.0     1283.0         371.0  3329.0   193.0       Solam Susent   \n",
              "4        303.0       70.0         151.0   565.0     2.0  Willy Santantines   \n",
              "\n",
              "   Transported AgeGroup  \n",
              "0        False    ADULT  \n",
              "1         True    ADULT  \n",
              "2        False   ELDERY  \n",
              "3        False    ADULT  \n",
              "4         True    YOUNG  "
            ],
            "text/html": [
              "\n",
              "  <div id=\"df-d21b6d8a-bd9f-4dca-9bff-565b6bfcd106\" class=\"colab-df-container\">\n",
              "    <div>\n",
              "<style scoped>\n",
              "    .dataframe tbody tr th:only-of-type {\n",
              "        vertical-align: middle;\n",
              "    }\n",
              "\n",
              "    .dataframe tbody tr th {\n",
              "        vertical-align: top;\n",
              "    }\n",
              "\n",
              "    .dataframe thead th {\n",
              "        text-align: right;\n",
              "    }\n",
              "</style>\n",
              "<table border=\"1\" class=\"dataframe\">\n",
              "  <thead>\n",
              "    <tr style=\"text-align: right;\">\n",
              "      <th></th>\n",
              "      <th>PassengerId</th>\n",
              "      <th>HomePlanet</th>\n",
              "      <th>CryoSleep</th>\n",
              "      <th>Cabin</th>\n",
              "      <th>Destination</th>\n",
              "      <th>Age</th>\n",
              "      <th>VIP</th>\n",
              "      <th>RoomService</th>\n",
              "      <th>FoodCourt</th>\n",
              "      <th>ShoppingMall</th>\n",
              "      <th>Spa</th>\n",
              "      <th>VRDeck</th>\n",
              "      <th>Name</th>\n",
              "      <th>Transported</th>\n",
              "      <th>AgeGroup</th>\n",
              "    </tr>\n",
              "  </thead>\n",
              "  <tbody>\n",
              "    <tr>\n",
              "      <th>0</th>\n",
              "      <td>0001_01</td>\n",
              "      <td>Europa</td>\n",
              "      <td>False</td>\n",
              "      <td>B/0/P</td>\n",
              "      <td>TRAPPIST-1e</td>\n",
              "      <td>39.0</td>\n",
              "      <td>False</td>\n",
              "      <td>0.0</td>\n",
              "      <td>0.0</td>\n",
              "      <td>0.0</td>\n",
              "      <td>0.0</td>\n",
              "      <td>0.0</td>\n",
              "      <td>Maham Ofracculy</td>\n",
              "      <td>False</td>\n",
              "      <td>ADULT</td>\n",
              "    </tr>\n",
              "    <tr>\n",
              "      <th>1</th>\n",
              "      <td>0002_01</td>\n",
              "      <td>Earth</td>\n",
              "      <td>False</td>\n",
              "      <td>F/0/S</td>\n",
              "      <td>TRAPPIST-1e</td>\n",
              "      <td>24.0</td>\n",
              "      <td>False</td>\n",
              "      <td>109.0</td>\n",
              "      <td>9.0</td>\n",
              "      <td>25.0</td>\n",
              "      <td>549.0</td>\n",
              "      <td>44.0</td>\n",
              "      <td>Juanna Vines</td>\n",
              "      <td>True</td>\n",
              "      <td>ADULT</td>\n",
              "    </tr>\n",
              "    <tr>\n",
              "      <th>2</th>\n",
              "      <td>0003_01</td>\n",
              "      <td>Europa</td>\n",
              "      <td>False</td>\n",
              "      <td>A/0/S</td>\n",
              "      <td>TRAPPIST-1e</td>\n",
              "      <td>58.0</td>\n",
              "      <td>True</td>\n",
              "      <td>43.0</td>\n",
              "      <td>3576.0</td>\n",
              "      <td>0.0</td>\n",
              "      <td>6715.0</td>\n",
              "      <td>49.0</td>\n",
              "      <td>Altark Susent</td>\n",
              "      <td>False</td>\n",
              "      <td>ELDERY</td>\n",
              "    </tr>\n",
              "    <tr>\n",
              "      <th>3</th>\n",
              "      <td>0003_02</td>\n",
              "      <td>Europa</td>\n",
              "      <td>False</td>\n",
              "      <td>A/0/S</td>\n",
              "      <td>TRAPPIST-1e</td>\n",
              "      <td>33.0</td>\n",
              "      <td>False</td>\n",
              "      <td>0.0</td>\n",
              "      <td>1283.0</td>\n",
              "      <td>371.0</td>\n",
              "      <td>3329.0</td>\n",
              "      <td>193.0</td>\n",
              "      <td>Solam Susent</td>\n",
              "      <td>False</td>\n",
              "      <td>ADULT</td>\n",
              "    </tr>\n",
              "    <tr>\n",
              "      <th>4</th>\n",
              "      <td>0004_01</td>\n",
              "      <td>Earth</td>\n",
              "      <td>False</td>\n",
              "      <td>F/1/S</td>\n",
              "      <td>TRAPPIST-1e</td>\n",
              "      <td>16.0</td>\n",
              "      <td>False</td>\n",
              "      <td>303.0</td>\n",
              "      <td>70.0</td>\n",
              "      <td>151.0</td>\n",
              "      <td>565.0</td>\n",
              "      <td>2.0</td>\n",
              "      <td>Willy Santantines</td>\n",
              "      <td>True</td>\n",
              "      <td>YOUNG</td>\n",
              "    </tr>\n",
              "  </tbody>\n",
              "</table>\n",
              "</div>\n",
              "    <div class=\"colab-df-buttons\">\n",
              "\n",
              "  <div class=\"colab-df-container\">\n",
              "    <button class=\"colab-df-convert\" onclick=\"convertToInteractive('df-d21b6d8a-bd9f-4dca-9bff-565b6bfcd106')\"\n",
              "            title=\"Convert this dataframe to an interactive table.\"\n",
              "            style=\"display:none;\">\n",
              "\n",
              "  <svg xmlns=\"http://www.w3.org/2000/svg\" height=\"24px\" viewBox=\"0 -960 960 960\">\n",
              "    <path d=\"M120-120v-720h720v720H120Zm60-500h600v-160H180v160Zm220 220h160v-160H400v160Zm0 220h160v-160H400v160ZM180-400h160v-160H180v160Zm440 0h160v-160H620v160ZM180-180h160v-160H180v160Zm440 0h160v-160H620v160Z\"/>\n",
              "  </svg>\n",
              "    </button>\n",
              "\n",
              "  <style>\n",
              "    .colab-df-container {\n",
              "      display:flex;\n",
              "      gap: 12px;\n",
              "    }\n",
              "\n",
              "    .colab-df-convert {\n",
              "      background-color: #E8F0FE;\n",
              "      border: none;\n",
              "      border-radius: 50%;\n",
              "      cursor: pointer;\n",
              "      display: none;\n",
              "      fill: #1967D2;\n",
              "      height: 32px;\n",
              "      padding: 0 0 0 0;\n",
              "      width: 32px;\n",
              "    }\n",
              "\n",
              "    .colab-df-convert:hover {\n",
              "      background-color: #E2EBFA;\n",
              "      box-shadow: 0px 1px 2px rgba(60, 64, 67, 0.3), 0px 1px 3px 1px rgba(60, 64, 67, 0.15);\n",
              "      fill: #174EA6;\n",
              "    }\n",
              "\n",
              "    .colab-df-buttons div {\n",
              "      margin-bottom: 4px;\n",
              "    }\n",
              "\n",
              "    [theme=dark] .colab-df-convert {\n",
              "      background-color: #3B4455;\n",
              "      fill: #D2E3FC;\n",
              "    }\n",
              "\n",
              "    [theme=dark] .colab-df-convert:hover {\n",
              "      background-color: #434B5C;\n",
              "      box-shadow: 0px 1px 3px 1px rgba(0, 0, 0, 0.15);\n",
              "      filter: drop-shadow(0px 1px 2px rgba(0, 0, 0, 0.3));\n",
              "      fill: #FFFFFF;\n",
              "    }\n",
              "  </style>\n",
              "\n",
              "    <script>\n",
              "      const buttonEl =\n",
              "        document.querySelector('#df-d21b6d8a-bd9f-4dca-9bff-565b6bfcd106 button.colab-df-convert');\n",
              "      buttonEl.style.display =\n",
              "        google.colab.kernel.accessAllowed ? 'block' : 'none';\n",
              "\n",
              "      async function convertToInteractive(key) {\n",
              "        const element = document.querySelector('#df-d21b6d8a-bd9f-4dca-9bff-565b6bfcd106');\n",
              "        const dataTable =\n",
              "          await google.colab.kernel.invokeFunction('convertToInteractive',\n",
              "                                                    [key], {});\n",
              "        if (!dataTable) return;\n",
              "\n",
              "        const docLinkHtml = 'Like what you see? Visit the ' +\n",
              "          '<a target=\"_blank\" href=https://colab.research.google.com/notebooks/data_table.ipynb>data table notebook</a>'\n",
              "          + ' to learn more about interactive tables.';\n",
              "        element.innerHTML = '';\n",
              "        dataTable['output_type'] = 'display_data';\n",
              "        await google.colab.output.renderOutput(dataTable, element);\n",
              "        const docLink = document.createElement('div');\n",
              "        docLink.innerHTML = docLinkHtml;\n",
              "        element.appendChild(docLink);\n",
              "      }\n",
              "    </script>\n",
              "  </div>\n",
              "\n",
              "\n",
              "<div id=\"df-c0c3783f-5929-413d-9783-1187a4e2abdf\">\n",
              "  <button class=\"colab-df-quickchart\" onclick=\"quickchart('df-c0c3783f-5929-413d-9783-1187a4e2abdf')\"\n",
              "            title=\"Suggest charts\"\n",
              "            style=\"display:none;\">\n",
              "\n",
              "<svg xmlns=\"http://www.w3.org/2000/svg\" height=\"24px\"viewBox=\"0 0 24 24\"\n",
              "     width=\"24px\">\n",
              "    <g>\n",
              "        <path d=\"M19 3H5c-1.1 0-2 .9-2 2v14c0 1.1.9 2 2 2h14c1.1 0 2-.9 2-2V5c0-1.1-.9-2-2-2zM9 17H7v-7h2v7zm4 0h-2V7h2v10zm4 0h-2v-4h2v4z\"/>\n",
              "    </g>\n",
              "</svg>\n",
              "  </button>\n",
              "\n",
              "<style>\n",
              "  .colab-df-quickchart {\n",
              "      --bg-color: #E8F0FE;\n",
              "      --fill-color: #1967D2;\n",
              "      --hover-bg-color: #E2EBFA;\n",
              "      --hover-fill-color: #174EA6;\n",
              "      --disabled-fill-color: #AAA;\n",
              "      --disabled-bg-color: #DDD;\n",
              "  }\n",
              "\n",
              "  [theme=dark] .colab-df-quickchart {\n",
              "      --bg-color: #3B4455;\n",
              "      --fill-color: #D2E3FC;\n",
              "      --hover-bg-color: #434B5C;\n",
              "      --hover-fill-color: #FFFFFF;\n",
              "      --disabled-bg-color: #3B4455;\n",
              "      --disabled-fill-color: #666;\n",
              "  }\n",
              "\n",
              "  .colab-df-quickchart {\n",
              "    background-color: var(--bg-color);\n",
              "    border: none;\n",
              "    border-radius: 50%;\n",
              "    cursor: pointer;\n",
              "    display: none;\n",
              "    fill: var(--fill-color);\n",
              "    height: 32px;\n",
              "    padding: 0;\n",
              "    width: 32px;\n",
              "  }\n",
              "\n",
              "  .colab-df-quickchart:hover {\n",
              "    background-color: var(--hover-bg-color);\n",
              "    box-shadow: 0 1px 2px rgba(60, 64, 67, 0.3), 0 1px 3px 1px rgba(60, 64, 67, 0.15);\n",
              "    fill: var(--button-hover-fill-color);\n",
              "  }\n",
              "\n",
              "  .colab-df-quickchart-complete:disabled,\n",
              "  .colab-df-quickchart-complete:disabled:hover {\n",
              "    background-color: var(--disabled-bg-color);\n",
              "    fill: var(--disabled-fill-color);\n",
              "    box-shadow: none;\n",
              "  }\n",
              "\n",
              "  .colab-df-spinner {\n",
              "    border: 2px solid var(--fill-color);\n",
              "    border-color: transparent;\n",
              "    border-bottom-color: var(--fill-color);\n",
              "    animation:\n",
              "      spin 1s steps(1) infinite;\n",
              "  }\n",
              "\n",
              "  @keyframes spin {\n",
              "    0% {\n",
              "      border-color: transparent;\n",
              "      border-bottom-color: var(--fill-color);\n",
              "      border-left-color: var(--fill-color);\n",
              "    }\n",
              "    20% {\n",
              "      border-color: transparent;\n",
              "      border-left-color: var(--fill-color);\n",
              "      border-top-color: var(--fill-color);\n",
              "    }\n",
              "    30% {\n",
              "      border-color: transparent;\n",
              "      border-left-color: var(--fill-color);\n",
              "      border-top-color: var(--fill-color);\n",
              "      border-right-color: var(--fill-color);\n",
              "    }\n",
              "    40% {\n",
              "      border-color: transparent;\n",
              "      border-right-color: var(--fill-color);\n",
              "      border-top-color: var(--fill-color);\n",
              "    }\n",
              "    60% {\n",
              "      border-color: transparent;\n",
              "      border-right-color: var(--fill-color);\n",
              "    }\n",
              "    80% {\n",
              "      border-color: transparent;\n",
              "      border-right-color: var(--fill-color);\n",
              "      border-bottom-color: var(--fill-color);\n",
              "    }\n",
              "    90% {\n",
              "      border-color: transparent;\n",
              "      border-bottom-color: var(--fill-color);\n",
              "    }\n",
              "  }\n",
              "</style>\n",
              "\n",
              "  <script>\n",
              "    async function quickchart(key) {\n",
              "      const quickchartButtonEl =\n",
              "        document.querySelector('#' + key + ' button');\n",
              "      quickchartButtonEl.disabled = true;  // To prevent multiple clicks.\n",
              "      quickchartButtonEl.classList.add('colab-df-spinner');\n",
              "      try {\n",
              "        const charts = await google.colab.kernel.invokeFunction(\n",
              "            'suggestCharts', [key], {});\n",
              "      } catch (error) {\n",
              "        console.error('Error during call to suggestCharts:', error);\n",
              "      }\n",
              "      quickchartButtonEl.classList.remove('colab-df-spinner');\n",
              "      quickchartButtonEl.classList.add('colab-df-quickchart-complete');\n",
              "    }\n",
              "    (() => {\n",
              "      let quickchartButtonEl =\n",
              "        document.querySelector('#df-c0c3783f-5929-413d-9783-1187a4e2abdf button');\n",
              "      quickchartButtonEl.style.display =\n",
              "        google.colab.kernel.accessAllowed ? 'block' : 'none';\n",
              "    })();\n",
              "  </script>\n",
              "</div>\n",
              "    </div>\n",
              "  </div>\n"
            ]
          },
          "metadata": {},
          "execution_count": 323
        }
      ]
    },
    {
      "cell_type": "markdown",
      "source": [
        "Посмотрим на распределение данных колонок 'RoomService', 'FoodCourt', 'ShoppingMall', 'Spa', 'VRDeck'."
      ],
      "metadata": {
        "id": "AZcTtX5sKTr_"
      }
    },
    {
      "cell_type": "code",
      "source": [
        "exp_cols = [\"RoomService\",\"FoodCourt\",\"ShoppingMall\",\"Spa\",\"VRDeck\"]\n",
        "\n",
        "plt.figure(figsize=(14,10))\n",
        "for idx,column in enumerate(exp_cols):\n",
        "    plt.subplot(3,2,idx+1)\n",
        "    sns.histplot(x=column, hue=\"Transported\", data=train_df,bins=30,kde=True,palette=\"Set1\")\n",
        "    plt.title(f\"{column} Distribution\")\n",
        "    plt.ylim(0,100)\n",
        "    plt.grid()\n",
        "    plt.tight_layout()"
      ],
      "metadata": {
        "colab": {
          "base_uri": "https://localhost:8080/",
          "height": 788
        },
        "id": "NUboGQgWKmse",
        "outputId": "aa6a1eea-846d-47c1-9f89-3315526a7f9e"
      },
      "execution_count": null,
      "outputs": [
        {
          "output_type": "display_data",
          "data": {
            "text/plain": [
              "<Figure size 1400x1000 with 5 Axes>"
            ],
            "image/png": "[encoded data removed]"
          },
          "metadata": {}
        }
      ]
    },
    {
      "cell_type": "markdown",
      "source": [
        "Можем заметить, что проведение времени на FoodCourt и ShoppingMall повышает вероятность транспортировки пассажира во время крушения лайнера, а такие развлечения как Spa, VRDeck и RoomService, наоборот, понижают эту вероятность.\n",
        "\n",
        "Помимо этого, обратим внимание, что многие пассажиры не пользовались дополнительными услугами космического корабля, либо пользовались в ограниченном количестве.\n",
        "\n",
        "Добавим 2 столбца: Shopping&FoodCourt и RoomService&VRDeck&Spa, в которых будет записана сумма трат соответствующих столбцов. Затем проведем их дискретизацию по квантилям.\n",
        "\n",
        "NB Стоит учесть тот факт, что в складываемых столбцах присутствуют пропуски (не всегда в одних и тех же строчках), поэтому пропусков в Shopping&FoodCourt и RoomService&VRDeck&Spa будет больше или равно чем в каждом отдельно взятом столбце FoodCourt, ShoppingMall и тд. где разумно заменить NaN на 0."
      ],
      "metadata": {
        "id": "H5Tq7pLnMmhy"
      }
    },
    {
      "cell_type": "code",
      "source": [
        "train_df['Shopping&FoodCourt'] = train_df['ShoppingMall'].fillna(0)+train_df['FoodCourt'].fillna(0)\n",
        "train_df['RoomService&VRDeck&Spa'] = train_df['RoomService'].fillna(0)+train_df['VRDeck'].fillna(0)+train_df['Spa'].fillna(0)"
      ],
      "metadata": {
        "id": "fsrsDdeiP5Jb"
      },
      "execution_count": null,
      "outputs": []
    },
    {
      "cell_type": "markdown",
      "source": [
        "Посмотрим, какой теперь вид имеет распределение столбцов Shopping&FoodCourt и RoomService&VRDeck&Spa."
      ],
      "metadata": {
        "id": "bvPuwOw9QWhr"
      }
    },
    {
      "cell_type": "code",
      "source": [
        "exp_cols = [\"Shopping&FoodCourt\",\"RoomService&VRDeck&Spa\"]\n",
        "\n",
        "plt.figure(figsize=(14,5))\n",
        "for idx,column in enumerate(exp_cols):\n",
        "    plt.subplot(1,2,idx+1)\n",
        "    sns.histplot(x=column, hue=\"Transported\", data=train_df,bins=30,kde=True,palette=\"Set1\")\n",
        "    plt.title(f\"{column} Distribution\")\n",
        "    plt.ylim(0,100)\n",
        "    plt.grid()\n",
        "    plt.tight_layout()"
      ],
      "metadata": {
        "colab": {
          "base_uri": "https://localhost:8080/",
          "height": 399
        },
        "id": "hjMYzfipQfPH",
        "outputId": "c2a617f0-ee46-4f95-c731-0f087fbda534"
      },
      "execution_count": null,
      "outputs": [
        {
          "output_type": "display_data",
          "data": {
            "text/plain": [
              "<Figure size 1400x500 with 2 Axes>"
            ],
            "image/png": "[encoded data removed]"
          },
          "metadata": {}
        }
      ]
    },
    {
      "cell_type": "markdown",
      "source": [
        "Ниже приведена функция, позволяющая проводить количественную дискретизацию признаков по уровням квантилей."
      ],
      "metadata": {
        "id": "aZ2IMSRUFkgg"
      }
    },
    {
      "cell_type": "code",
      "source": [
        "def quantile_discretization(df, name_column, quantile_levels = [0.0, 0.25, 0.5, 0.75, 1], group_names = ['GROUP_1', 'GROUP_2', 'GROUP_3', 'GROUP_4']):\n",
        "  '''\n",
        "    df: dataframe\n",
        "    name_column: the name of the numeric column to be sampled\n",
        "    quantile_levels: an array of quantile levels by which to divide column data 'column_name'\n",
        "    group_names: the name of the ranges into which the 'column_name' data will be sampled\n",
        "\n",
        "    return: series with the sampling result; array of groups' name\n",
        "  '''\n",
        "  if name_column not in df.columns: return\n",
        "  sampled_series = pd.qcut(x = df[name_column], q = quantile_levels, duplicates='drop')\n",
        "\n",
        "  return sampled_series.replace(sampled_series.unique(), group_names[:len(sampled_series.unique())])\n"
      ],
      "metadata": {
        "id": "3QBmftIDRNjv"
      },
      "execution_count": null,
      "outputs": []
    },
    {
      "cell_type": "markdown",
      "source": [
        "Продублируем действия выше внутри одного метода data_analysis, чтобы в дальнейшем аналогично обработать test_df."
      ],
      "metadata": {
        "id": "vTXH7M0ttiQy"
      }
    },
    {
      "cell_type": "code",
      "source": [
        "def data_analysis(df):\n",
        "  df['AgeGroup'] = df['Age'].apply(lambda age: age_group(age))\n",
        "  df['Shopping&FoodCourt'] = df['ShoppingMall'].fillna(0)+df['FoodCourt'].fillna(0)\n",
        "  df['RoomService&VRDeck&Spa'] = df['RoomService'].fillna(0)+df['VRDeck'].fillna(0)+df['Spa'].fillna(0)\n",
        "  return df"
      ],
      "metadata": {
        "id": "i-pR9kN4ttz-"
      },
      "execution_count": null,
      "outputs": []
    },
    {
      "cell_type": "code",
      "source": [
        "test_df = data_analysis(test_df)"
      ],
      "metadata": {
        "id": "q4tMaoffuMz1"
      },
      "execution_count": null,
      "outputs": []
    },
    {
      "cell_type": "markdown",
      "source": [
        "# Анализ качества данных"
      ],
      "metadata": {
        "id": "a1nbJZZsOfn-"
      }
    },
    {
      "cell_type": "markdown",
      "source": [
        "Подсчитаем количество пропусков в каждом столбце."
      ],
      "metadata": {
        "id": "7kSDb7-Ixg7j"
      }
    },
    {
      "cell_type": "code",
      "source": [
        "missing_val_count_by_column = (train_df.isnull().sum())\n",
        "print(train_df.shape)\n",
        "print(missing_val_count_by_column[missing_val_count_by_column > 0])"
      ],
      "metadata": {
        "colab": {
          "base_uri": "https://localhost:8080/"
        },
        "id": "0z3X_bVGQH2A",
        "outputId": "472a8d8b-894e-47a0-e0c5-b5517f70bb42"
      },
      "execution_count": null,
      "outputs": [
        {
          "output_type": "stream",
          "name": "stdout",
          "text": [
            "(8693, 17)\n",
            "HomePlanet      201\n",
            "CryoSleep       217\n",
            "Cabin           199\n",
            "Destination     182\n",
            "Age             179\n",
            "VIP             203\n",
            "RoomService     181\n",
            "FoodCourt       183\n",
            "ShoppingMall    208\n",
            "Spa             183\n",
            "VRDeck          188\n",
            "Name            200\n",
            "dtype: int64\n"
          ]
        }
      ]
    },
    {
      "cell_type": "markdown",
      "source": [
        "Количество пропусков в каждом отдельном столбце небольшое - около 2,5%."
      ],
      "metadata": {
        "id": "gAaRZV9ZRNJp"
      }
    },
    {
      "cell_type": "markdown",
      "source": [
        "Изучим подробнее информацию о столбцах датафрейма и сделаем некоторые предположения об их дальнейшей обработке:\n",
        "\n",
        "\n",
        "*   **PassengerId**: состоит из 2х чисел вида gggg_pp, где gggg - номер группы, а pp - номер пассажира в этой группе (родственники находятся либо в одной, либо в ближайших группах); разделим столбец на 2: gggg и pp, а затем заменим их одним - порядковым номером пассажира на борту\n",
        "\n",
        "*   **HomePlanet**: применим к данному столбцу one_hot кодирование с параметром handle_unknown='ignore' для корректной работы на тестовых данных, и drop_first (или его аналог), для предотвращения появления линейных зависимостей; пропущенные значение игнорировать, то есть во всех порожденных столбцах 'HomePlanet_NAME_OF_THE_PLANET' будут стоять 0\n",
        "\n",
        "*   **CryoSleep**: применить one-hot кодирование с такими же параметрами, как для столбца 'HomePlanet'\n",
        "\n",
        "*   **Cabin**: состоит из 3х частей deck/num/side, где side может принимать значение P - левый борт, - и S - правый борт; разделим столбец на 3: номер палубы, номер каюты и сторона борта; для deck применим в одном случае Ordinal Encoding, в другом - one-hot и посмотрим, была ли взаимосвязь между номером палубы и вероятностью спастись у пассажира;  для side применить one-hot кодирование с такими же параметрами, как для столбца 'HomePlanet'\n",
        "\n",
        "*   **Destination**: пункт назначения, применить one-hot кодирование с такими же параметрами, как для столбца 'HomePlanet'\n",
        "\n",
        "*   **Age**: пропуски заполним средним/медианой по столбцу\n",
        "\n",
        "*   **VIP**: применить one-hot кодирование с такими же параметрами, как для столбца 'HomePlanet'\n",
        "\n",
        "*   **RoomService**, **FoodCourt**, **ShoppingMall**, **Spa** и **VRDeck** объединим в один столбец как сумму 6-ти, чтобы отразить финансовую состоятельность пассажира; пропуски заменим 0\n",
        "\n",
        "*   **Name**: в данном столбце оставим только фамилию, поскольку есть вероятность, что у родственниках была одинаковая судьба после крушения, и применим one-hot кодирование с такими же параметрами, как для столбца 'HomePlanet'\n",
        "\n",
        "Каждый вариант обработки столбца поместим в train_df, а выборку X, из которой будут формироваться X_train и X_valid, будем составлять из столбцов train_df, оценивая, как предобработка даннных влияет на точность предсказаний.\n",
        "\n",
        "\n",
        "\n",
        "\n",
        "\n"
      ],
      "metadata": {
        "id": "pS_hzUGPSYHN"
      }
    },
    {
      "cell_type": "markdown",
      "source": [
        "## Обработка столбцов"
      ],
      "metadata": {
        "id": "1ok5Twuvdyc5"
      }
    },
    {
      "cell_type": "code",
      "source": [
        "train_df.columns"
      ],
      "metadata": {
        "colab": {
          "base_uri": "https://localhost:8080/"
        },
        "id": "DmkSPeXxeJLR",
        "outputId": "fe114db6-0dce-45e3-bb18-b23891e96119"
      },
      "execution_count": null,
      "outputs": [
        {
          "output_type": "execute_result",
          "data": {
            "text/plain": [
              "Index(['PassengerId', 'HomePlanet', 'CryoSleep', 'Cabin', 'Destination', 'Age',\n",
              "       'VIP', 'RoomService', 'FoodCourt', 'ShoppingMall', 'Spa', 'VRDeck',\n",
              "       'Name', 'Transported', 'AgeGroup', 'Shopping&FoodCourt',\n",
              "       'RoomService&VRDeck&Spa'],\n",
              "      dtype='object')"
            ]
          },
          "metadata": {},
          "execution_count": 331
        }
      ]
    },
    {
      "cell_type": "markdown",
      "source": [
        "Разделим столбец 'PassengerId' на 2 столбца, содержащих информацию о номере группы и номере пассажира внутри группы соответственно."
      ],
      "metadata": {
        "id": "hSNioaWWyiYc"
      }
    },
    {
      "cell_type": "code",
      "source": [
        "train_df[['IdGroup', 'IdNumber']] = train_df['PassengerId'].str.split('_', n=1 , expand= True )\n",
        "train_df['IdGroup'] = pd.to_numeric(train_df['IdGroup'])\n",
        "train_df['IdNumber'] = pd.to_numeric(train_df['IdNumber'])\n",
        "train_df.drop('PassengerId', axis=1, inplace=True)"
      ],
      "metadata": {
        "id": "E4AMDVTbd2Gp"
      },
      "execution_count": null,
      "outputs": []
    },
    {
      "cell_type": "markdown",
      "source": [
        "Разделим столбец 'Cabin' на 3 столбца, содержащих информацию о номере палубы, каюты и стороне борта соответственно."
      ],
      "metadata": {
        "id": "2QAt4jDxy8uG"
      }
    },
    {
      "cell_type": "code",
      "source": [
        "train_df[['Cabin_deck', 'Cabin_num', 'Cabin_side']] = train_df['Cabin'].str.split('/', expand=True)\n",
        "train_df['Cabin_num'] = pd.to_numeric(train_df['Cabin_num'])\n",
        "train_df.drop('Cabin', axis=1, inplace=True)"
      ],
      "metadata": {
        "id": "CsoQH0GEljHv"
      },
      "execution_count": null,
      "outputs": []
    },
    {
      "cell_type": "markdown",
      "source": [
        "Оставим в датасете информацию о фамилии пассажира."
      ],
      "metadata": {
        "id": "9kwx72dmzsxD"
      }
    },
    {
      "cell_type": "code",
      "source": [
        "train_df[['FirstName', 'LastName']] = train_df['Name'].str.split(' ', expand=True)\n",
        "train_df.drop(['Name', 'FirstName'], axis=1, inplace=True)"
      ],
      "metadata": {
        "id": "lAcy17Khn-3t"
      },
      "execution_count": null,
      "outputs": []
    },
    {
      "cell_type": "markdown",
      "source": [
        "Заполним пропуски значениями 'NONE' для категориальных признаков и значением 0 для остальных."
      ],
      "metadata": {
        "id": "JCL1epFK0Oh-"
      }
    },
    {
      "cell_type": "code",
      "source": [
        "train_df['HomePlanet'].fillna('NONE', inplace=True)\n",
        "train_df['CryoSleep'].fillna(0, inplace=True)\n",
        "train_df['Destination'].fillna('NONE', inplace=True)\n",
        "train_df['VIP'].fillna(0, inplace=True)\n",
        "train_df['Age'].fillna(train_df['Age'].median(), inplace=True)\n",
        "train_df['RoomService'].fillna(0, inplace=True)\n",
        "train_df['FoodCourt'].fillna(0, inplace=True)\n",
        "train_df['ShoppingMall'].fillna(0, inplace=True)\n",
        "train_df['Spa'].fillna(0, inplace=True)\n",
        "train_df['VRDeck'].fillna(0, inplace=True)"
      ],
      "metadata": {
        "id": "EA8Xpc8jjrzg"
      },
      "execution_count": null,
      "outputs": []
    },
    {
      "cell_type": "markdown",
      "source": [
        "Добавим столбец 'ServiceCost', отражающий общие расходы пассажира."
      ],
      "metadata": {
        "id": "Cz4AgIbi0YIW"
      }
    },
    {
      "cell_type": "code",
      "source": [
        "train_df['ServiceCost'] = train_df['RoomService']+train_df['FoodCourt']+train_df['ShoppingMall']+train_df['Spa']+train_df['VRDeck']"
      ],
      "metadata": {
        "id": "DHU9HYN6lLdh"
      },
      "execution_count": null,
      "outputs": []
    },
    {
      "cell_type": "code",
      "source": [
        "train_df.head()"
      ],
      "metadata": {
        "colab": {
          "base_uri": "https://localhost:8080/",
          "height": 342
        },
        "id": "-PxPY8UZ0jkG",
        "outputId": "2dbeb03a-098b-4710-d083-af5193234a7d"
      },
      "execution_count": null,
      "outputs": [
        {
          "output_type": "execute_result",
          "data": {
            "text/plain": [
              "  HomePlanet CryoSleep  Destination   Age    VIP  RoomService  FoodCourt  \\\n",
              "0     Europa     False  TRAPPIST-1e  39.0  False          0.0        0.0   \n",
              "1      Earth     False  TRAPPIST-1e  24.0  False        109.0        9.0   \n",
              "2     Europa     False  TRAPPIST-1e  58.0   True         43.0     3576.0   \n",
              "3     Europa     False  TRAPPIST-1e  33.0  False          0.0     1283.0   \n",
              "4      Earth     False  TRAPPIST-1e  16.0  False        303.0       70.0   \n",
              "\n",
              "   ShoppingMall     Spa  VRDeck  ...  AgeGroup Shopping&FoodCourt  \\\n",
              "0           0.0     0.0     0.0  ...     ADULT                0.0   \n",
              "1          25.0   549.0    44.0  ...     ADULT               34.0   \n",
              "2           0.0  6715.0    49.0  ...    ELDERY             3576.0   \n",
              "3         371.0  3329.0   193.0  ...     ADULT             1654.0   \n",
              "4         151.0   565.0     2.0  ...     YOUNG              221.0   \n",
              "\n",
              "   RoomService&VRDeck&Spa  IdGroup  IdNumber  Cabin_deck Cabin_num  \\\n",
              "0                     0.0        1         1           B       0.0   \n",
              "1                   702.0        2         1           F       0.0   \n",
              "2                  6807.0        3         1           A       0.0   \n",
              "3                  3522.0        3         2           A       0.0   \n",
              "4                   870.0        4         1           F       1.0   \n",
              "\n",
              "   Cabin_side     LastName ServiceCost  \n",
              "0           P    Ofracculy         0.0  \n",
              "1           S        Vines       736.0  \n",
              "2           S       Susent     10383.0  \n",
              "3           S       Susent      5176.0  \n",
              "4           S  Santantines      1091.0  \n",
              "\n",
              "[5 rows x 21 columns]"
            ],
            "text/html": [
              "\n",
              "  <div id=\"df-b101d6e8-31a6-45dd-a08e-19c4d97b72af\" class=\"colab-df-container\">\n",
              "    <div>\n",
              "<style scoped>\n",
              "    .dataframe tbody tr th:only-of-type {\n",
              "        vertical-align: middle;\n",
              "    }\n",
              "\n",
              "    .dataframe tbody tr th {\n",
              "        vertical-align: top;\n",
              "    }\n",
              "\n",
              "    .dataframe thead th {\n",
              "        text-align: right;\n",
              "    }\n",
              "</style>\n",
              "<table border=\"1\" class=\"dataframe\">\n",
              "  <thead>\n",
              "    <tr style=\"text-align: right;\">\n",
              "      <th></th>\n",
              "      <th>HomePlanet</th>\n",
              "      <th>CryoSleep</th>\n",
              "      <th>Destination</th>\n",
              "      <th>Age</th>\n",
              "      <th>VIP</th>\n",
              "      <th>RoomService</th>\n",
              "      <th>FoodCourt</th>\n",
              "      <th>ShoppingMall</th>\n",
              "      <th>Spa</th>\n",
              "      <th>VRDeck</th>\n",
              "      <th>...</th>\n",
              "      <th>AgeGroup</th>\n",
              "      <th>Shopping&amp;FoodCourt</th>\n",
              "      <th>RoomService&amp;VRDeck&amp;Spa</th>\n",
              "      <th>IdGroup</th>\n",
              "      <th>IdNumber</th>\n",
              "      <th>Cabin_deck</th>\n",
              "      <th>Cabin_num</th>\n",
              "      <th>Cabin_side</th>\n",
              "      <th>LastName</th>\n",
              "      <th>ServiceCost</th>\n",
              "    </tr>\n",
              "  </thead>\n",
              "  <tbody>\n",
              "    <tr>\n",
              "      <th>0</th>\n",
              "      <td>Europa</td>\n",
              "      <td>False</td>\n",
              "      <td>TRAPPIST-1e</td>\n",
              "      <td>39.0</td>\n",
              "      <td>False</td>\n",
              "      <td>0.0</td>\n",
              "      <td>0.0</td>\n",
              "      <td>0.0</td>\n",
              "      <td>0.0</td>\n",
              "      <td>0.0</td>\n",
              "      <td>...</td>\n",
              "      <td>ADULT</td>\n",
              "      <td>0.0</td>\n",
              "      <td>0.0</td>\n",
              "      <td>1</td>\n",
              "      <td>1</td>\n",
              "      <td>B</td>\n",
              "      <td>0.0</td>\n",
              "      <td>P</td>\n",
              "      <td>Ofracculy</td>\n",
              "      <td>0.0</td>\n",
              "    </tr>\n",
              "    <tr>\n",
              "      <th>1</th>\n",
              "      <td>Earth</td>\n",
              "      <td>False</td>\n",
              "      <td>TRAPPIST-1e</td>\n",
              "      <td>24.0</td>\n",
              "      <td>False</td>\n",
              "      <td>109.0</td>\n",
              "      <td>9.0</td>\n",
              "      <td>25.0</td>\n",
              "      <td>549.0</td>\n",
              "      <td>44.0</td>\n",
              "      <td>...</td>\n",
              "      <td>ADULT</td>\n",
              "      <td>34.0</td>\n",
              "      <td>702.0</td>\n",
              "      <td>2</td>\n",
              "      <td>1</td>\n",
              "      <td>F</td>\n",
              "      <td>0.0</td>\n",
              "      <td>S</td>\n",
              "      <td>Vines</td>\n",
              "      <td>736.0</td>\n",
              "    </tr>\n",
              "    <tr>\n",
              "      <th>2</th>\n",
              "      <td>Europa</td>\n",
              "      <td>False</td>\n",
              "      <td>TRAPPIST-1e</td>\n",
              "      <td>58.0</td>\n",
              "      <td>True</td>\n",
              "      <td>43.0</td>\n",
              "      <td>3576.0</td>\n",
              "      <td>0.0</td>\n",
              "      <td>6715.0</td>\n",
              "      <td>49.0</td>\n",
              "      <td>...</td>\n",
              "      <td>ELDERY</td>\n",
              "      <td>3576.0</td>\n",
              "      <td>6807.0</td>\n",
              "      <td>3</td>\n",
              "      <td>1</td>\n",
              "      <td>A</td>\n",
              "      <td>0.0</td>\n",
              "      <td>S</td>\n",
              "      <td>Susent</td>\n",
              "      <td>10383.0</td>\n",
              "    </tr>\n",
              "    <tr>\n",
              "      <th>3</th>\n",
              "      <td>Europa</td>\n",
              "      <td>False</td>\n",
              "      <td>TRAPPIST-1e</td>\n",
              "      <td>33.0</td>\n",
              "      <td>False</td>\n",
              "      <td>0.0</td>\n",
              "      <td>1283.0</td>\n",
              "      <td>371.0</td>\n",
              "      <td>3329.0</td>\n",
              "      <td>193.0</td>\n",
              "      <td>...</td>\n",
              "      <td>ADULT</td>\n",
              "      <td>1654.0</td>\n",
              "      <td>3522.0</td>\n",
              "      <td>3</td>\n",
              "      <td>2</td>\n",
              "      <td>A</td>\n",
              "      <td>0.0</td>\n",
              "      <td>S</td>\n",
              "      <td>Susent</td>\n",
              "      <td>5176.0</td>\n",
              "    </tr>\n",
              "    <tr>\n",
              "      <th>4</th>\n",
              "      <td>Earth</td>\n",
              "      <td>False</td>\n",
              "      <td>TRAPPIST-1e</td>\n",
              "      <td>16.0</td>\n",
              "      <td>False</td>\n",
              "      <td>303.0</td>\n",
              "      <td>70.0</td>\n",
              "      <td>151.0</td>\n",
              "      <td>565.0</td>\n",
              "      <td>2.0</td>\n",
              "      <td>...</td>\n",
              "      <td>YOUNG</td>\n",
              "      <td>221.0</td>\n",
              "      <td>870.0</td>\n",
              "      <td>4</td>\n",
              "      <td>1</td>\n",
              "      <td>F</td>\n",
              "      <td>1.0</td>\n",
              "      <td>S</td>\n",
              "      <td>Santantines</td>\n",
              "      <td>1091.0</td>\n",
              "    </tr>\n",
              "  </tbody>\n",
              "</table>\n",
              "<p>5 rows × 21 columns</p>\n",
              "</div>\n",
              "    <div class=\"colab-df-buttons\">\n",
              "\n",
              "  <div class=\"colab-df-container\">\n",
              "    <button class=\"colab-df-convert\" onclick=\"convertToInteractive('df-b101d6e8-31a6-45dd-a08e-19c4d97b72af')\"\n",
              "            title=\"Convert this dataframe to an interactive table.\"\n",
              "            style=\"display:none;\">\n",
              "\n",
              "  <svg xmlns=\"http://www.w3.org/2000/svg\" height=\"24px\" viewBox=\"0 -960 960 960\">\n",
              "    <path d=\"M120-120v-720h720v720H120Zm60-500h600v-160H180v160Zm220 220h160v-160H400v160Zm0 220h160v-160H400v160ZM180-400h160v-160H180v160Zm440 0h160v-160H620v160ZM180-180h160v-160H180v160Zm440 0h160v-160H620v160Z\"/>\n",
              "  </svg>\n",
              "    </button>\n",
              "\n",
              "  <style>\n",
              "    .colab-df-container {\n",
              "      display:flex;\n",
              "      gap: 12px;\n",
              "    }\n",
              "\n",
              "    .colab-df-convert {\n",
              "      background-color: #E8F0FE;\n",
              "      border: none;\n",
              "      border-radius: 50%;\n",
              "      cursor: pointer;\n",
              "      display: none;\n",
              "      fill: #1967D2;\n",
              "      height: 32px;\n",
              "      padding: 0 0 0 0;\n",
              "      width: 32px;\n",
              "    }\n",
              "\n",
              "    .colab-df-convert:hover {\n",
              "      background-color: #E2EBFA;\n",
              "      box-shadow: 0px 1px 2px rgba(60, 64, 67, 0.3), 0px 1px 3px 1px rgba(60, 64, 67, 0.15);\n",
              "      fill: #174EA6;\n",
              "    }\n",
              "\n",
              "    .colab-df-buttons div {\n",
              "      margin-bottom: 4px;\n",
              "    }\n",
              "\n",
              "    [theme=dark] .colab-df-convert {\n",
              "      background-color: #3B4455;\n",
              "      fill: #D2E3FC;\n",
              "    }\n",
              "\n",
              "    [theme=dark] .colab-df-convert:hover {\n",
              "      background-color: #434B5C;\n",
              "      box-shadow: 0px 1px 3px 1px rgba(0, 0, 0, 0.15);\n",
              "      filter: drop-shadow(0px 1px 2px rgba(0, 0, 0, 0.3));\n",
              "      fill: #FFFFFF;\n",
              "    }\n",
              "  </style>\n",
              "\n",
              "    <script>\n",
              "      const buttonEl =\n",
              "        document.querySelector('#df-b101d6e8-31a6-45dd-a08e-19c4d97b72af button.colab-df-convert');\n",
              "      buttonEl.style.display =\n",
              "        google.colab.kernel.accessAllowed ? 'block' : 'none';\n",
              "\n",
              "      async function convertToInteractive(key) {\n",
              "        const element = document.querySelector('#df-b101d6e8-31a6-45dd-a08e-19c4d97b72af');\n",
              "        const dataTable =\n",
              "          await google.colab.kernel.invokeFunction('convertToInteractive',\n",
              "                                                    [key], {});\n",
              "        if (!dataTable) return;\n",
              "\n",
              "        const docLinkHtml = 'Like what you see? Visit the ' +\n",
              "          '<a target=\"_blank\" href=https://colab.research.google.com/notebooks/data_table.ipynb>data table notebook</a>'\n",
              "          + ' to learn more about interactive tables.';\n",
              "        element.innerHTML = '';\n",
              "        dataTable['output_type'] = 'display_data';\n",
              "        await google.colab.output.renderOutput(dataTable, element);\n",
              "        const docLink = document.createElement('div');\n",
              "        docLink.innerHTML = docLinkHtml;\n",
              "        element.appendChild(docLink);\n",
              "      }\n",
              "    </script>\n",
              "  </div>\n",
              "\n",
              "\n",
              "<div id=\"df-ba8c8eb5-4971-419e-8027-f94e035daf26\">\n",
              "  <button class=\"colab-df-quickchart\" onclick=\"quickchart('df-ba8c8eb5-4971-419e-8027-f94e035daf26')\"\n",
              "            title=\"Suggest charts\"\n",
              "            style=\"display:none;\">\n",
              "\n",
              "<svg xmlns=\"http://www.w3.org/2000/svg\" height=\"24px\"viewBox=\"0 0 24 24\"\n",
              "     width=\"24px\">\n",
              "    <g>\n",
              "        <path d=\"M19 3H5c-1.1 0-2 .9-2 2v14c0 1.1.9 2 2 2h14c1.1 0 2-.9 2-2V5c0-1.1-.9-2-2-2zM9 17H7v-7h2v7zm4 0h-2V7h2v10zm4 0h-2v-4h2v4z\"/>\n",
              "    </g>\n",
              "</svg>\n",
              "  </button>\n",
              "\n",
              "<style>\n",
              "  .colab-df-quickchart {\n",
              "      --bg-color: #E8F0FE;\n",
              "      --fill-color: #1967D2;\n",
              "      --hover-bg-color: #E2EBFA;\n",
              "      --hover-fill-color: #174EA6;\n",
              "      --disabled-fill-color: #AAA;\n",
              "      --disabled-bg-color: #DDD;\n",
              "  }\n",
              "\n",
              "  [theme=dark] .colab-df-quickchart {\n",
              "      --bg-color: #3B4455;\n",
              "      --fill-color: #D2E3FC;\n",
              "      --hover-bg-color: #434B5C;\n",
              "      --hover-fill-color: #FFFFFF;\n",
              "      --disabled-bg-color: #3B4455;\n",
              "      --disabled-fill-color: #666;\n",
              "  }\n",
              "\n",
              "  .colab-df-quickchart {\n",
              "    background-color: var(--bg-color);\n",
              "    border: none;\n",
              "    border-radius: 50%;\n",
              "    cursor: pointer;\n",
              "    display: none;\n",
              "    fill: var(--fill-color);\n",
              "    height: 32px;\n",
              "    padding: 0;\n",
              "    width: 32px;\n",
              "  }\n",
              "\n",
              "  .colab-df-quickchart:hover {\n",
              "    background-color: var(--hover-bg-color);\n",
              "    box-shadow: 0 1px 2px rgba(60, 64, 67, 0.3), 0 1px 3px 1px rgba(60, 64, 67, 0.15);\n",
              "    fill: var(--button-hover-fill-color);\n",
              "  }\n",
              "\n",
              "  .colab-df-quickchart-complete:disabled,\n",
              "  .colab-df-quickchart-complete:disabled:hover {\n",
              "    background-color: var(--disabled-bg-color);\n",
              "    fill: var(--disabled-fill-color);\n",
              "    box-shadow: none;\n",
              "  }\n",
              "\n",
              "  .colab-df-spinner {\n",
              "    border: 2px solid var(--fill-color);\n",
              "    border-color: transparent;\n",
              "    border-bottom-color: var(--fill-color);\n",
              "    animation:\n",
              "      spin 1s steps(1) infinite;\n",
              "  }\n",
              "\n",
              "  @keyframes spin {\n",
              "    0% {\n",
              "      border-color: transparent;\n",
              "      border-bottom-color: var(--fill-color);\n",
              "      border-left-color: var(--fill-color);\n",
              "    }\n",
              "    20% {\n",
              "      border-color: transparent;\n",
              "      border-left-color: var(--fill-color);\n",
              "      border-top-color: var(--fill-color);\n",
              "    }\n",
              "    30% {\n",
              "      border-color: transparent;\n",
              "      border-left-color: var(--fill-color);\n",
              "      border-top-color: var(--fill-color);\n",
              "      border-right-color: var(--fill-color);\n",
              "    }\n",
              "    40% {\n",
              "      border-color: transparent;\n",
              "      border-right-color: var(--fill-color);\n",
              "      border-top-color: var(--fill-color);\n",
              "    }\n",
              "    60% {\n",
              "      border-color: transparent;\n",
              "      border-right-color: var(--fill-color);\n",
              "    }\n",
              "    80% {\n",
              "      border-color: transparent;\n",
              "      border-right-color: var(--fill-color);\n",
              "      border-bottom-color: var(--fill-color);\n",
              "    }\n",
              "    90% {\n",
              "      border-color: transparent;\n",
              "      border-bottom-color: var(--fill-color);\n",
              "    }\n",
              "  }\n",
              "</style>\n",
              "\n",
              "  <script>\n",
              "    async function quickchart(key) {\n",
              "      const quickchartButtonEl =\n",
              "        document.querySelector('#' + key + ' button');\n",
              "      quickchartButtonEl.disabled = true;  // To prevent multiple clicks.\n",
              "      quickchartButtonEl.classList.add('colab-df-spinner');\n",
              "      try {\n",
              "        const charts = await google.colab.kernel.invokeFunction(\n",
              "            'suggestCharts', [key], {});\n",
              "      } catch (error) {\n",
              "        console.error('Error during call to suggestCharts:', error);\n",
              "      }\n",
              "      quickchartButtonEl.classList.remove('colab-df-spinner');\n",
              "      quickchartButtonEl.classList.add('colab-df-quickchart-complete');\n",
              "    }\n",
              "    (() => {\n",
              "      let quickchartButtonEl =\n",
              "        document.querySelector('#df-ba8c8eb5-4971-419e-8027-f94e035daf26 button');\n",
              "      quickchartButtonEl.style.display =\n",
              "        google.colab.kernel.accessAllowed ? 'block' : 'none';\n",
              "    })();\n",
              "  </script>\n",
              "</div>\n",
              "    </div>\n",
              "  </div>\n"
            ]
          },
          "metadata": {},
          "execution_count": 337
        }
      ]
    },
    {
      "cell_type": "markdown",
      "source": [
        "Продублируем действия выше внутри одного метода data_processing, чтобы в дальнейшем аналогично обработать test_df."
      ],
      "metadata": {
        "id": "qi93vgodLSkm"
      }
    },
    {
      "cell_type": "code",
      "source": [
        "def data_processing(df):\n",
        "  df[['IdGroup', 'IdNumber']] = df['PassengerId'].str.split('_', n=1 , expand= True )\n",
        "  df['IdGroup'] = pd.to_numeric(df['IdGroup'])\n",
        "  df['IdNumber'] = pd.to_numeric(df['IdNumber'])\n",
        "  df.drop('PassengerId', axis=1, inplace=True)\n",
        "  df[['Cabin_deck', 'Cabin_num', 'Cabin_side']] = df['Cabin'].str.split('/', expand=True)\n",
        "  df['Cabin_num'] = pd.to_numeric(df['Cabin_num'])\n",
        "  df.drop('Cabin', axis=1, inplace=True)\n",
        "  df[['FirstName', 'LastName']] = df['Name'].str.split(' ', expand=True)\n",
        "  df.drop(['Name', 'FirstName'], axis=1, inplace=True)\n",
        "  df['HomePlanet'].fillna('NONE', inplace=True)\n",
        "  df['CryoSleep'].fillna(0, inplace=True)\n",
        "  df['Destination'].fillna('NONE', inplace=True)\n",
        "  df['VIP'].fillna(0, inplace=True)\n",
        "  df['Age'].fillna(train_df['Age'].median(), inplace=True)\n",
        "  df['RoomService'].fillna(0, inplace=True)\n",
        "  df['FoodCourt'].fillna(0, inplace=True)\n",
        "  df['ShoppingMall'].fillna(0, inplace=True)\n",
        "  df['Spa'].fillna(0, inplace=True)\n",
        "  df['VRDeck'].fillna(0, inplace=True)\n",
        "  df['ServiceCost'] = df['RoomService']+df['FoodCourt']+df['ShoppingMall']+df['Spa']+df['VRDeck']\n",
        "\n",
        "  return df"
      ],
      "metadata": {
        "id": "SBTu2fudLoK6"
      },
      "execution_count": null,
      "outputs": []
    },
    {
      "cell_type": "code",
      "source": [
        "test_df = data_processing(test_df)"
      ],
      "metadata": {
        "id": "voGeotgNvKPN"
      },
      "execution_count": null,
      "outputs": []
    },
    {
      "cell_type": "markdown",
      "source": [
        "## Кодирование качественных признаков"
      ],
      "metadata": {
        "id": "Boo48PvHxIq-"
      }
    },
    {
      "cell_type": "markdown",
      "source": [
        "Для начала проведем original encodeing для столбцов 'Cabin_deck' b 'Cabin_side'."
      ],
      "metadata": {
        "id": "_3ikOZrHxf3s"
      }
    },
    {
      "cell_type": "code",
      "source": [
        "from sklearn.preprocessing import OrdinalEncoder\n",
        "\n",
        "ordinal_encoder_cabin_deck = OrdinalEncoder()\n",
        "train_df.loc[:,'Cabin_deck_orig_enc'] = ordinal_encoder_cabin_deck.fit_transform(train_df.loc[:,'Cabin_deck'].to_frame())"
      ],
      "metadata": {
        "id": "W__fzuGtxMh2"
      },
      "execution_count": null,
      "outputs": []
    },
    {
      "cell_type": "code",
      "source": [
        "ordinal_encoder_cabin_side = OrdinalEncoder()\n",
        "train_df.loc[:,'Cabin_side_orig_enc'] = ordinal_encoder_cabin_side.fit_transform(train_df.loc[:,'Cabin_side'].to_frame())"
      ],
      "metadata": {
        "id": "SkIcmAc1Numr"
      },
      "execution_count": null,
      "outputs": []
    },
    {
      "cell_type": "markdown",
      "source": [
        "Переведем логический тип данных в числовой, заменив True значением 1 и False значением 0."
      ],
      "metadata": {
        "id": "-BgtQBSw05Mt"
      }
    },
    {
      "cell_type": "code",
      "source": [
        "train_df.CryoSleep.replace({ True : 1 , False : 0 }, inplace=True)\n",
        "train_df.VIP.replace({ True : 1 , False : 0 }, inplace=True)\n",
        "train_df.Transported.replace({ True : 1 , False : 0 }, inplace=True)\n",
        "\n",
        "test_df.CryoSleep.replace({ True : 1 , False : 0 }, inplace=True)\n",
        "test_df.VIP.replace({ True : 1 , False : 0 }, inplace=True)"
      ],
      "metadata": {
        "id": "-9CrUSrw2FfU"
      },
      "execution_count": null,
      "outputs": []
    },
    {
      "cell_type": "code",
      "source": [
        "train_df['HomePlanet'].groupby(train_df['Cabin_deck']).describe()"
      ],
      "metadata": {
        "colab": {
          "base_uri": "https://localhost:8080/",
          "height": 332
        },
        "id": "pgqdIkme157L",
        "outputId": "25ea97a1-a4fc-462b-cf37-6c6bc3274756"
      },
      "execution_count": null,
      "outputs": [
        {
          "output_type": "execute_result",
          "data": {
            "text/plain": [
              "           count unique     top  freq\n",
              "Cabin_deck                           \n",
              "A            256      2  Europa   252\n",
              "B            779      2  Europa   766\n",
              "C            747      2  Europa   734\n",
              "D            478      3    Mars   282\n",
              "E            876      4   Earth   395\n",
              "F           2794      3   Earth  1614\n",
              "G           2559      2   Earth  2498\n",
              "T              5      2  Europa     4"
            ],
            "text/html": [
              "\n",
              "  <div id=\"df-b072c5ac-a56b-4955-9e60-94221c4de9a2\" class=\"colab-df-container\">\n",
              "    <div>\n",
              "<style scoped>\n",
              "    .dataframe tbody tr th:only-of-type {\n",
              "        vertical-align: middle;\n",
              "    }\n",
              "\n",
              "    .dataframe tbody tr th {\n",
              "        vertical-align: top;\n",
              "    }\n",
              "\n",
              "    .dataframe thead th {\n",
              "        text-align: right;\n",
              "    }\n",
              "</style>\n",
              "<table border=\"1\" class=\"dataframe\">\n",
              "  <thead>\n",
              "    <tr style=\"text-align: right;\">\n",
              "      <th></th>\n",
              "      <th>count</th>\n",
              "      <th>unique</th>\n",
              "      <th>top</th>\n",
              "      <th>freq</th>\n",
              "    </tr>\n",
              "    <tr>\n",
              "      <th>Cabin_deck</th>\n",
              "      <th></th>\n",
              "      <th></th>\n",
              "      <th></th>\n",
              "      <th></th>\n",
              "    </tr>\n",
              "  </thead>\n",
              "  <tbody>\n",
              "    <tr>\n",
              "      <th>A</th>\n",
              "      <td>256</td>\n",
              "      <td>2</td>\n",
              "      <td>Europa</td>\n",
              "      <td>252</td>\n",
              "    </tr>\n",
              "    <tr>\n",
              "      <th>B</th>\n",
              "      <td>779</td>\n",
              "      <td>2</td>\n",
              "      <td>Europa</td>\n",
              "      <td>766</td>\n",
              "    </tr>\n",
              "    <tr>\n",
              "      <th>C</th>\n",
              "      <td>747</td>\n",
              "      <td>2</td>\n",
              "      <td>Europa</td>\n",
              "      <td>734</td>\n",
              "    </tr>\n",
              "    <tr>\n",
              "      <th>D</th>\n",
              "      <td>478</td>\n",
              "      <td>3</td>\n",
              "      <td>Mars</td>\n",
              "      <td>282</td>\n",
              "    </tr>\n",
              "    <tr>\n",
              "      <th>E</th>\n",
              "      <td>876</td>\n",
              "      <td>4</td>\n",
              "      <td>Earth</td>\n",
              "      <td>395</td>\n",
              "    </tr>\n",
              "    <tr>\n",
              "      <th>F</th>\n",
              "      <td>2794</td>\n",
              "      <td>3</td>\n",
              "      <td>Earth</td>\n",
              "      <td>1614</td>\n",
              "    </tr>\n",
              "    <tr>\n",
              "      <th>G</th>\n",
              "      <td>2559</td>\n",
              "      <td>2</td>\n",
              "      <td>Earth</td>\n",
              "      <td>2498</td>\n",
              "    </tr>\n",
              "    <tr>\n",
              "      <th>T</th>\n",
              "      <td>5</td>\n",
              "      <td>2</td>\n",
              "      <td>Europa</td>\n",
              "      <td>4</td>\n",
              "    </tr>\n",
              "  </tbody>\n",
              "</table>\n",
              "</div>\n",
              "    <div class=\"colab-df-buttons\">\n",
              "\n",
              "  <div class=\"colab-df-container\">\n",
              "    <button class=\"colab-df-convert\" onclick=\"convertToInteractive('df-b072c5ac-a56b-4955-9e60-94221c4de9a2')\"\n",
              "            title=\"Convert this dataframe to an interactive table.\"\n",
              "            style=\"display:none;\">\n",
              "\n",
              "  <svg xmlns=\"http://www.w3.org/2000/svg\" height=\"24px\" viewBox=\"0 -960 960 960\">\n",
              "    <path d=\"M120-120v-720h720v720H120Zm60-500h600v-160H180v160Zm220 220h160v-160H400v160Zm0 220h160v-160H400v160ZM180-400h160v-160H180v160Zm440 0h160v-160H620v160ZM180-180h160v-160H180v160Zm440 0h160v-160H620v160Z\"/>\n",
              "  </svg>\n",
              "    </button>\n",
              "\n",
              "  <style>\n",
              "    .colab-df-container {\n",
              "      display:flex;\n",
              "      gap: 12px;\n",
              "    }\n",
              "\n",
              "    .colab-df-convert {\n",
              "      background-color: #E8F0FE;\n",
              "      border: none;\n",
              "      border-radius: 50%;\n",
              "      cursor: pointer;\n",
              "      display: none;\n",
              "      fill: #1967D2;\n",
              "      height: 32px;\n",
              "      padding: 0 0 0 0;\n",
              "      width: 32px;\n",
              "    }\n",
              "\n",
              "    .colab-df-convert:hover {\n",
              "      background-color: #E2EBFA;\n",
              "      box-shadow: 0px 1px 2px rgba(60, 64, 67, 0.3), 0px 1px 3px 1px rgba(60, 64, 67, 0.15);\n",
              "      fill: #174EA6;\n",
              "    }\n",
              "\n",
              "    .colab-df-buttons div {\n",
              "      margin-bottom: 4px;\n",
              "    }\n",
              "\n",
              "    [theme=dark] .colab-df-convert {\n",
              "      background-color: #3B4455;\n",
              "      fill: #D2E3FC;\n",
              "    }\n",
              "\n",
              "    [theme=dark] .colab-df-convert:hover {\n",
              "      background-color: #434B5C;\n",
              "      box-shadow: 0px 1px 3px 1px rgba(0, 0, 0, 0.15);\n",
              "      filter: drop-shadow(0px 1px 2px rgba(0, 0, 0, 0.3));\n",
              "      fill: #FFFFFF;\n",
              "    }\n",
              "  </style>\n",
              "\n",
              "    <script>\n",
              "      const buttonEl =\n",
              "        document.querySelector('#df-b072c5ac-a56b-4955-9e60-94221c4de9a2 button.colab-df-convert');\n",
              "      buttonEl.style.display =\n",
              "        google.colab.kernel.accessAllowed ? 'block' : 'none';\n",
              "\n",
              "      async function convertToInteractive(key) {\n",
              "        const element = document.querySelector('#df-b072c5ac-a56b-4955-9e60-94221c4de9a2');\n",
              "        const dataTable =\n",
              "          await google.colab.kernel.invokeFunction('convertToInteractive',\n",
              "                                                    [key], {});\n",
              "        if (!dataTable) return;\n",
              "\n",
              "        const docLinkHtml = 'Like what you see? Visit the ' +\n",
              "          '<a target=\"_blank\" href=https://colab.research.google.com/notebooks/data_table.ipynb>data table notebook</a>'\n",
              "          + ' to learn more about interactive tables.';\n",
              "        element.innerHTML = '';\n",
              "        dataTable['output_type'] = 'display_data';\n",
              "        await google.colab.output.renderOutput(dataTable, element);\n",
              "        const docLink = document.createElement('div');\n",
              "        docLink.innerHTML = docLinkHtml;\n",
              "        element.appendChild(docLink);\n",
              "      }\n",
              "    </script>\n",
              "  </div>\n",
              "\n",
              "\n",
              "<div id=\"df-33c3d8c3-55df-4268-ade2-939b0c7220c7\">\n",
              "  <button class=\"colab-df-quickchart\" onclick=\"quickchart('df-33c3d8c3-55df-4268-ade2-939b0c7220c7')\"\n",
              "            title=\"Suggest charts\"\n",
              "            style=\"display:none;\">\n",
              "\n",
              "<svg xmlns=\"http://www.w3.org/2000/svg\" height=\"24px\"viewBox=\"0 0 24 24\"\n",
              "     width=\"24px\">\n",
              "    <g>\n",
              "        <path d=\"M19 3H5c-1.1 0-2 .9-2 2v14c0 1.1.9 2 2 2h14c1.1 0 2-.9 2-2V5c0-1.1-.9-2-2-2zM9 17H7v-7h2v7zm4 0h-2V7h2v10zm4 0h-2v-4h2v4z\"/>\n",
              "    </g>\n",
              "</svg>\n",
              "  </button>\n",
              "\n",
              "<style>\n",
              "  .colab-df-quickchart {\n",
              "      --bg-color: #E8F0FE;\n",
              "      --fill-color: #1967D2;\n",
              "      --hover-bg-color: #E2EBFA;\n",
              "      --hover-fill-color: #174EA6;\n",
              "      --disabled-fill-color: #AAA;\n",
              "      --disabled-bg-color: #DDD;\n",
              "  }\n",
              "\n",
              "  [theme=dark] .colab-df-quickchart {\n",
              "      --bg-color: #3B4455;\n",
              "      --fill-color: #D2E3FC;\n",
              "      --hover-bg-color: #434B5C;\n",
              "      --hover-fill-color: #FFFFFF;\n",
              "      --disabled-bg-color: #3B4455;\n",
              "      --disabled-fill-color: #666;\n",
              "  }\n",
              "\n",
              "  .colab-df-quickchart {\n",
              "    background-color: var(--bg-color);\n",
              "    border: none;\n",
              "    border-radius: 50%;\n",
              "    cursor: pointer;\n",
              "    display: none;\n",
              "    fill: var(--fill-color);\n",
              "    height: 32px;\n",
              "    padding: 0;\n",
              "    width: 32px;\n",
              "  }\n",
              "\n",
              "  .colab-df-quickchart:hover {\n",
              "    background-color: var(--hover-bg-color);\n",
              "    box-shadow: 0 1px 2px rgba(60, 64, 67, 0.3), 0 1px 3px 1px rgba(60, 64, 67, 0.15);\n",
              "    fill: var(--button-hover-fill-color);\n",
              "  }\n",
              "\n",
              "  .colab-df-quickchart-complete:disabled,\n",
              "  .colab-df-quickchart-complete:disabled:hover {\n",
              "    background-color: var(--disabled-bg-color);\n",
              "    fill: var(--disabled-fill-color);\n",
              "    box-shadow: none;\n",
              "  }\n",
              "\n",
              "  .colab-df-spinner {\n",
              "    border: 2px solid var(--fill-color);\n",
              "    border-color: transparent;\n",
              "    border-bottom-color: var(--fill-color);\n",
              "    animation:\n",
              "      spin 1s steps(1) infinite;\n",
              "  }\n",
              "\n",
              "  @keyframes spin {\n",
              "    0% {\n",
              "      border-color: transparent;\n",
              "      border-bottom-color: var(--fill-color);\n",
              "      border-left-color: var(--fill-color);\n",
              "    }\n",
              "    20% {\n",
              "      border-color: transparent;\n",
              "      border-left-color: var(--fill-color);\n",
              "      border-top-color: var(--fill-color);\n",
              "    }\n",
              "    30% {\n",
              "      border-color: transparent;\n",
              "      border-left-color: var(--fill-color);\n",
              "      border-top-color: var(--fill-color);\n",
              "      border-right-color: var(--fill-color);\n",
              "    }\n",
              "    40% {\n",
              "      border-color: transparent;\n",
              "      border-right-color: var(--fill-color);\n",
              "      border-top-color: var(--fill-color);\n",
              "    }\n",
              "    60% {\n",
              "      border-color: transparent;\n",
              "      border-right-color: var(--fill-color);\n",
              "    }\n",
              "    80% {\n",
              "      border-color: transparent;\n",
              "      border-right-color: var(--fill-color);\n",
              "      border-bottom-color: var(--fill-color);\n",
              "    }\n",
              "    90% {\n",
              "      border-color: transparent;\n",
              "      border-bottom-color: var(--fill-color);\n",
              "    }\n",
              "  }\n",
              "</style>\n",
              "\n",
              "  <script>\n",
              "    async function quickchart(key) {\n",
              "      const quickchartButtonEl =\n",
              "        document.querySelector('#' + key + ' button');\n",
              "      quickchartButtonEl.disabled = true;  // To prevent multiple clicks.\n",
              "      quickchartButtonEl.classList.add('colab-df-spinner');\n",
              "      try {\n",
              "        const charts = await google.colab.kernel.invokeFunction(\n",
              "            'suggestCharts', [key], {});\n",
              "      } catch (error) {\n",
              "        console.error('Error during call to suggestCharts:', error);\n",
              "      }\n",
              "      quickchartButtonEl.classList.remove('colab-df-spinner');\n",
              "      quickchartButtonEl.classList.add('colab-df-quickchart-complete');\n",
              "    }\n",
              "    (() => {\n",
              "      let quickchartButtonEl =\n",
              "        document.querySelector('#df-33c3d8c3-55df-4268-ade2-939b0c7220c7 button');\n",
              "      quickchartButtonEl.style.display =\n",
              "        google.colab.kernel.accessAllowed ? 'block' : 'none';\n",
              "    })();\n",
              "  </script>\n",
              "</div>\n",
              "    </div>\n",
              "  </div>\n"
            ]
          },
          "metadata": {},
          "execution_count": 343
        }
      ]
    },
    {
      "cell_type": "markdown",
      "source": [
        "На основе получившихся данных можем заполнить пропуски в столбце HomePlanet. К примеру, логично предположить, что пропуски в столбце HomePlanet для пассажиров, находящихся в кабинах А, B, C, и T, стоит установить в значение Europa; для пассажиров, находящихся в кабине G, в значение Earth."
      ],
      "metadata": {
        "id": "u_fnJn9SNeDI"
      }
    },
    {
      "cell_type": "code",
      "source": [
        "train_df['HomePlanet'] = train_df.apply(lambda row: 'Europa'\n",
        "                                        if row['HomePlanet'] == 'NONE' and (row['Cabin_deck'] in ['A', 'B', 'C', 'T'])\n",
        "                                        else row['HomePlanet'], axis=1)\n",
        "\n",
        "train_df['HomePlanet'] = train_df.apply(lambda row: 'Earth'\n",
        "                                        if row['HomePlanet'] == 'NONE' and (row['Cabin_deck'] == 'G')\n",
        "                                        else row['HomePlanet'], axis=1)\n",
        "\n",
        "train_df['HomePlanet'].groupby(train_df['Cabin_deck']).describe()"
      ],
      "metadata": {
        "colab": {
          "base_uri": "https://localhost:8080/",
          "height": 332
        },
        "id": "s_Zs3NpHQoEp",
        "outputId": "b2c29e0f-7e48-4dff-a74a-073c290343fd"
      },
      "execution_count": null,
      "outputs": [
        {
          "output_type": "execute_result",
          "data": {
            "text/plain": [
              "           count unique     top  freq\n",
              "Cabin_deck                           \n",
              "A            256      1  Europa   256\n",
              "B            779      1  Europa   779\n",
              "C            747      1  Europa   747\n",
              "D            478      3    Mars   282\n",
              "E            876      4   Earth   395\n",
              "F           2794      3   Earth  1614\n",
              "G           2559      1   Earth  2559\n",
              "T              5      1  Europa     5"
            ],
            "text/html": [
              "\n",
              "  <div id=\"df-d5748d6a-3bf7-41e1-bb28-878ad99de1be\" class=\"colab-df-container\">\n",
              "    <div>\n",
              "<style scoped>\n",
              "    .dataframe tbody tr th:only-of-type {\n",
              "        vertical-align: middle;\n",
              "    }\n",
              "\n",
              "    .dataframe tbody tr th {\n",
              "        vertical-align: top;\n",
              "    }\n",
              "\n",
              "    .dataframe thead th {\n",
              "        text-align: right;\n",
              "    }\n",
              "</style>\n",
              "<table border=\"1\" class=\"dataframe\">\n",
              "  <thead>\n",
              "    <tr style=\"text-align: right;\">\n",
              "      <th></th>\n",
              "      <th>count</th>\n",
              "      <th>unique</th>\n",
              "      <th>top</th>\n",
              "      <th>freq</th>\n",
              "    </tr>\n",
              "    <tr>\n",
              "      <th>Cabin_deck</th>\n",
              "      <th></th>\n",
              "      <th></th>\n",
              "      <th></th>\n",
              "      <th></th>\n",
              "    </tr>\n",
              "  </thead>\n",
              "  <tbody>\n",
              "    <tr>\n",
              "      <th>A</th>\n",
              "      <td>256</td>\n",
              "      <td>1</td>\n",
              "      <td>Europa</td>\n",
              "      <td>256</td>\n",
              "    </tr>\n",
              "    <tr>\n",
              "      <th>B</th>\n",
              "      <td>779</td>\n",
              "      <td>1</td>\n",
              "      <td>Europa</td>\n",
              "      <td>779</td>\n",
              "    </tr>\n",
              "    <tr>\n",
              "      <th>C</th>\n",
              "      <td>747</td>\n",
              "      <td>1</td>\n",
              "      <td>Europa</td>\n",
              "      <td>747</td>\n",
              "    </tr>\n",
              "    <tr>\n",
              "      <th>D</th>\n",
              "      <td>478</td>\n",
              "      <td>3</td>\n",
              "      <td>Mars</td>\n",
              "      <td>282</td>\n",
              "    </tr>\n",
              "    <tr>\n",
              "      <th>E</th>\n",
              "      <td>876</td>\n",
              "      <td>4</td>\n",
              "      <td>Earth</td>\n",
              "      <td>395</td>\n",
              "    </tr>\n",
              "    <tr>\n",
              "      <th>F</th>\n",
              "      <td>2794</td>\n",
              "      <td>3</td>\n",
              "      <td>Earth</td>\n",
              "      <td>1614</td>\n",
              "    </tr>\n",
              "    <tr>\n",
              "      <th>G</th>\n",
              "      <td>2559</td>\n",
              "      <td>1</td>\n",
              "      <td>Earth</td>\n",
              "      <td>2559</td>\n",
              "    </tr>\n",
              "    <tr>\n",
              "      <th>T</th>\n",
              "      <td>5</td>\n",
              "      <td>1</td>\n",
              "      <td>Europa</td>\n",
              "      <td>5</td>\n",
              "    </tr>\n",
              "  </tbody>\n",
              "</table>\n",
              "</div>\n",
              "    <div class=\"colab-df-buttons\">\n",
              "\n",
              "  <div class=\"colab-df-container\">\n",
              "    <button class=\"colab-df-convert\" onclick=\"convertToInteractive('df-d5748d6a-3bf7-41e1-bb28-878ad99de1be')\"\n",
              "            title=\"Convert this dataframe to an interactive table.\"\n",
              "            style=\"display:none;\">\n",
              "\n",
              "  <svg xmlns=\"http://www.w3.org/2000/svg\" height=\"24px\" viewBox=\"0 -960 960 960\">\n",
              "    <path d=\"M120-120v-720h720v720H120Zm60-500h600v-160H180v160Zm220 220h160v-160H400v160Zm0 220h160v-160H400v160ZM180-400h160v-160H180v160Zm440 0h160v-160H620v160ZM180-180h160v-160H180v160Zm440 0h160v-160H620v160Z\"/>\n",
              "  </svg>\n",
              "    </button>\n",
              "\n",
              "  <style>\n",
              "    .colab-df-container {\n",
              "      display:flex;\n",
              "      gap: 12px;\n",
              "    }\n",
              "\n",
              "    .colab-df-convert {\n",
              "      background-color: #E8F0FE;\n",
              "      border: none;\n",
              "      border-radius: 50%;\n",
              "      cursor: pointer;\n",
              "      display: none;\n",
              "      fill: #1967D2;\n",
              "      height: 32px;\n",
              "      padding: 0 0 0 0;\n",
              "      width: 32px;\n",
              "    }\n",
              "\n",
              "    .colab-df-convert:hover {\n",
              "      background-color: #E2EBFA;\n",
              "      box-shadow: 0px 1px 2px rgba(60, 64, 67, 0.3), 0px 1px 3px 1px rgba(60, 64, 67, 0.15);\n",
              "      fill: #174EA6;\n",
              "    }\n",
              "\n",
              "    .colab-df-buttons div {\n",
              "      margin-bottom: 4px;\n",
              "    }\n",
              "\n",
              "    [theme=dark] .colab-df-convert {\n",
              "      background-color: #3B4455;\n",
              "      fill: #D2E3FC;\n",
              "    }\n",
              "\n",
              "    [theme=dark] .colab-df-convert:hover {\n",
              "      background-color: #434B5C;\n",
              "      box-shadow: 0px 1px 3px 1px rgba(0, 0, 0, 0.15);\n",
              "      filter: drop-shadow(0px 1px 2px rgba(0, 0, 0, 0.3));\n",
              "      fill: #FFFFFF;\n",
              "    }\n",
              "  </style>\n",
              "\n",
              "    <script>\n",
              "      const buttonEl =\n",
              "        document.querySelector('#df-d5748d6a-3bf7-41e1-bb28-878ad99de1be button.colab-df-convert');\n",
              "      buttonEl.style.display =\n",
              "        google.colab.kernel.accessAllowed ? 'block' : 'none';\n",
              "\n",
              "      async function convertToInteractive(key) {\n",
              "        const element = document.querySelector('#df-d5748d6a-3bf7-41e1-bb28-878ad99de1be');\n",
              "        const dataTable =\n",
              "          await google.colab.kernel.invokeFunction('convertToInteractive',\n",
              "                                                    [key], {});\n",
              "        if (!dataTable) return;\n",
              "\n",
              "        const docLinkHtml = 'Like what you see? Visit the ' +\n",
              "          '<a target=\"_blank\" href=https://colab.research.google.com/notebooks/data_table.ipynb>data table notebook</a>'\n",
              "          + ' to learn more about interactive tables.';\n",
              "        element.innerHTML = '';\n",
              "        dataTable['output_type'] = 'display_data';\n",
              "        await google.colab.output.renderOutput(dataTable, element);\n",
              "        const docLink = document.createElement('div');\n",
              "        docLink.innerHTML = docLinkHtml;\n",
              "        element.appendChild(docLink);\n",
              "      }\n",
              "    </script>\n",
              "  </div>\n",
              "\n",
              "\n",
              "<div id=\"df-7d9c5c92-bee5-469f-8158-9db6a173f536\">\n",
              "  <button class=\"colab-df-quickchart\" onclick=\"quickchart('df-7d9c5c92-bee5-469f-8158-9db6a173f536')\"\n",
              "            title=\"Suggest charts\"\n",
              "            style=\"display:none;\">\n",
              "\n",
              "<svg xmlns=\"http://www.w3.org/2000/svg\" height=\"24px\"viewBox=\"0 0 24 24\"\n",
              "     width=\"24px\">\n",
              "    <g>\n",
              "        <path d=\"M19 3H5c-1.1 0-2 .9-2 2v14c0 1.1.9 2 2 2h14c1.1 0 2-.9 2-2V5c0-1.1-.9-2-2-2zM9 17H7v-7h2v7zm4 0h-2V7h2v10zm4 0h-2v-4h2v4z\"/>\n",
              "    </g>\n",
              "</svg>\n",
              "  </button>\n",
              "\n",
              "<style>\n",
              "  .colab-df-quickchart {\n",
              "      --bg-color: #E8F0FE;\n",
              "      --fill-color: #1967D2;\n",
              "      --hover-bg-color: #E2EBFA;\n",
              "      --hover-fill-color: #174EA6;\n",
              "      --disabled-fill-color: #AAA;\n",
              "      --disabled-bg-color: #DDD;\n",
              "  }\n",
              "\n",
              "  [theme=dark] .colab-df-quickchart {\n",
              "      --bg-color: #3B4455;\n",
              "      --fill-color: #D2E3FC;\n",
              "      --hover-bg-color: #434B5C;\n",
              "      --hover-fill-color: #FFFFFF;\n",
              "      --disabled-bg-color: #3B4455;\n",
              "      --disabled-fill-color: #666;\n",
              "  }\n",
              "\n",
              "  .colab-df-quickchart {\n",
              "    background-color: var(--bg-color);\n",
              "    border: none;\n",
              "    border-radius: 50%;\n",
              "    cursor: pointer;\n",
              "    display: none;\n",
              "    fill: var(--fill-color);\n",
              "    height: 32px;\n",
              "    padding: 0;\n",
              "    width: 32px;\n",
              "  }\n",
              "\n",
              "  .colab-df-quickchart:hover {\n",
              "    background-color: var(--hover-bg-color);\n",
              "    box-shadow: 0 1px 2px rgba(60, 64, 67, 0.3), 0 1px 3px 1px rgba(60, 64, 67, 0.15);\n",
              "    fill: var(--button-hover-fill-color);\n",
              "  }\n",
              "\n",
              "  .colab-df-quickchart-complete:disabled,\n",
              "  .colab-df-quickchart-complete:disabled:hover {\n",
              "    background-color: var(--disabled-bg-color);\n",
              "    fill: var(--disabled-fill-color);\n",
              "    box-shadow: none;\n",
              "  }\n",
              "\n",
              "  .colab-df-spinner {\n",
              "    border: 2px solid var(--fill-color);\n",
              "    border-color: transparent;\n",
              "    border-bottom-color: var(--fill-color);\n",
              "    animation:\n",
              "      spin 1s steps(1) infinite;\n",
              "  }\n",
              "\n",
              "  @keyframes spin {\n",
              "    0% {\n",
              "      border-color: transparent;\n",
              "      border-bottom-color: var(--fill-color);\n",
              "      border-left-color: var(--fill-color);\n",
              "    }\n",
              "    20% {\n",
              "      border-color: transparent;\n",
              "      border-left-color: var(--fill-color);\n",
              "      border-top-color: var(--fill-color);\n",
              "    }\n",
              "    30% {\n",
              "      border-color: transparent;\n",
              "      border-left-color: var(--fill-color);\n",
              "      border-top-color: var(--fill-color);\n",
              "      border-right-color: var(--fill-color);\n",
              "    }\n",
              "    40% {\n",
              "      border-color: transparent;\n",
              "      border-right-color: var(--fill-color);\n",
              "      border-top-color: var(--fill-color);\n",
              "    }\n",
              "    60% {\n",
              "      border-color: transparent;\n",
              "      border-right-color: var(--fill-color);\n",
              "    }\n",
              "    80% {\n",
              "      border-color: transparent;\n",
              "      border-right-color: var(--fill-color);\n",
              "      border-bottom-color: var(--fill-color);\n",
              "    }\n",
              "    90% {\n",
              "      border-color: transparent;\n",
              "      border-bottom-color: var(--fill-color);\n",
              "    }\n",
              "  }\n",
              "</style>\n",
              "\n",
              "  <script>\n",
              "    async function quickchart(key) {\n",
              "      const quickchartButtonEl =\n",
              "        document.querySelector('#' + key + ' button');\n",
              "      quickchartButtonEl.disabled = true;  // To prevent multiple clicks.\n",
              "      quickchartButtonEl.classList.add('colab-df-spinner');\n",
              "      try {\n",
              "        const charts = await google.colab.kernel.invokeFunction(\n",
              "            'suggestCharts', [key], {});\n",
              "      } catch (error) {\n",
              "        console.error('Error during call to suggestCharts:', error);\n",
              "      }\n",
              "      quickchartButtonEl.classList.remove('colab-df-spinner');\n",
              "      quickchartButtonEl.classList.add('colab-df-quickchart-complete');\n",
              "    }\n",
              "    (() => {\n",
              "      let quickchartButtonEl =\n",
              "        document.querySelector('#df-7d9c5c92-bee5-469f-8158-9db6a173f536 button');\n",
              "      quickchartButtonEl.style.display =\n",
              "        google.colab.kernel.accessAllowed ? 'block' : 'none';\n",
              "    })();\n",
              "  </script>\n",
              "</div>\n",
              "    </div>\n",
              "  </div>\n"
            ]
          },
          "metadata": {},
          "execution_count": 304
        }
      ]
    },
    {
      "cell_type": "markdown",
      "source": [
        "Обобщим заполнение пропусков столбца 'HomePlanet' и вынесем в отдельный метод."
      ],
      "metadata": {
        "id": "3x02jbtl7u5p"
      }
    },
    {
      "cell_type": "code",
      "source": [
        "def fillna_Home_Planet(df, treshold=0.05):\n",
        "  '''\n",
        "  df:\n",
        "  treshold:\n",
        "  return:\n",
        "  '''\n",
        "  df_fillna_Home_Planet = df.copy()\n",
        "  df_grouped_by_cabin_deck = df['HomePlanet'].groupby(df['Cabin_deck']).describe(include='all')\n",
        "  for cabin_deck in df_grouped_by_cabin_deck.index:\n",
        "    count = df_grouped_by_cabin_deck.loc[cabin_deck][0]\n",
        "    freq = df_grouped_by_cabin_deck.loc[cabin_deck][3]\n",
        "    if freq/count <= treshold:\n",
        "      df_fillna_Home_Planet['HomePlanet'] = df_fillna_Home_Planet.apply(lambda row: df_grouped_by_cabin_deck.loc[cabin_deck].top\n",
        "                                        if row['HomePlanet'] == 'NONE' and (row['Cabin_deck'] == cabin_deck)\n",
        "                                        else row['HomePlanet'], axis=1)\n",
        "  return df_fillna_Home_Planet"
      ],
      "metadata": {
        "id": "qDWCtpre744r"
      },
      "execution_count": null,
      "outputs": []
    },
    {
      "cell_type": "markdown",
      "source": [
        "Автоматизируем кодирование качественных признаков."
      ],
      "metadata": {
        "id": "5OthvY1CRtlJ"
      }
    },
    {
      "cell_type": "code",
      "source": [
        "def original_encoding(train_df, test_df):\n",
        "  ordinal_encoder_cabin_deck = OrdinalEncoder()\n",
        "  train_df.loc[:,'Cabin_deck_orig_enc'] = ordinal_encoder_cabin_deck.fit_transform(train_df.loc[:,'Cabin_deck'].to_frame())\n",
        "  test_df.loc[:,'Cabin_deck_orig_enc'] = ordinal_encoder_cabin_deck.transform(test_df.loc[:,'Cabin_deck'].to_frame())\n",
        "\n",
        "  ordinal_encoder_cabin_side = OrdinalEncoder()\n",
        "  train_df.loc[:,'Cabin_side_orig_enc'] = ordinal_encoder_cabin_side.fit_transform(train_df.loc[:,'Cabin_side'].to_frame())\n",
        "  test_df.loc[:,'Cabin_side_orig_enc'] = ordinal_encoder_cabin_side.transform(test_df.loc[:,'Cabin_side'].to_frame())\n",
        "\n",
        "  return train_df, test_df"
      ],
      "metadata": {
        "id": "c1TdAS0fvnQB"
      },
      "execution_count": null,
      "outputs": []
    },
    {
      "cell_type": "code",
      "source": [
        "def boolean_types_processing(df):\n",
        "  '''\n",
        "  df:\n",
        "  return:\n",
        "  '''\n",
        "  df_boolean_process = df.copy()\n",
        "\n",
        "  boolean_features = df_boolean_process.select_dtypes(include='bool')\n",
        "  for feature in boolean_features:\n",
        "    df_boolean_process[feature].replace({ True : 1 , False : 0 }, inplace=True)\n",
        "\n",
        "  return df_boolean_process"
      ],
      "metadata": {
        "id": "CnJToidzXY3o"
      },
      "execution_count": null,
      "outputs": []
    },
    {
      "cell_type": "code",
      "source": [
        "from sklearn.preprocessing import OneHotEncoder\n",
        "\n",
        "def one_hot_encoding(train_df, test_df):\n",
        "  '''\n",
        "  train_df:\n",
        "  test_df:\n",
        "  return:\n",
        "  '''\n",
        "  object_cols = train_df.select_dtypes('object').columns\n",
        "  OH_encoder = OneHotEncoder(handle_unknown='ignore', sparse=False)\n",
        "\n",
        "  OH_cols_train = pd.DataFrame(OH_encoder.fit_transform(train_df[object_cols]))\n",
        "  OH_cols_test = pd.DataFrame(OH_encoder.transform(test_df[object_cols]))\n",
        "\n",
        "  OH_cols_train.index = train_df.index\n",
        "  OH_cols_test.index = test_df.index\n",
        "\n",
        "  OH_cols_train.columns = OH_encoder.get_feature_names_out()\n",
        "  OH_cols_test.columns = OH_encoder.get_feature_names_out()\n",
        "\n",
        "  num_X_train = train_df.drop(object_cols, axis=1)\n",
        "  num_X_test = test_df.drop(object_cols, axis=1)\n",
        "\n",
        "  X_train = pd.concat([num_X_train, OH_cols_train], axis=1)\n",
        "  X_test = pd.concat([num_X_test, OH_cols_test], axis=1)\n",
        "\n",
        "  X_train.columns = X_train.columns.astype(str)\n",
        "  X_test.columns = X_test.columns.astype(str)\n",
        "\n",
        "  return X_train, X_test"
      ],
      "metadata": {
        "id": "-nnParLPZXMz"
      },
      "execution_count": null,
      "outputs": []
    },
    {
      "cell_type": "code",
      "source": [
        "def encoding_quality_features (train_df, test_df):\n",
        "  '''\n",
        "    train_df:\n",
        "    test_df:\n",
        "    return:\n",
        "  '''\n",
        "  train_df_boolean_process, test_df_boolean_process = boolean_types_processing(train_df), boolean_types_processing(test_df)\n",
        "  train_df_fill_home_planet, test_df_fill_home_planet = fillna_Home_Planet(train_df_boolean_process), fillna_Home_Planet(test_df_boolean_process)\n",
        "  train_df_orig_enc, test_df_orig_enc = original_encoding(train_df_fill_home_planet, test_df_fill_home_planet)\n",
        "  train_df_oh_enc, test_df_oh_enc = one_hot_encoding(train_df_fill_home_planet, test_df_fill_home_planet)\n",
        "  train_df_oh_enc.fillna(0, inplace=True), test_df_oh_enc.fillna(0, inplace=True)\n",
        "\n",
        "  return train_df_oh_enc, test_df_oh_enc\n"
      ],
      "metadata": {
        "id": "Q_jLT610R11V"
      },
      "execution_count": null,
      "outputs": []
    },
    {
      "cell_type": "markdown",
      "source": [
        "Для дальнейшей работы удалим столбец LastName."
      ],
      "metadata": {
        "id": "kgqqXyIXCDPf"
      }
    },
    {
      "cell_type": "code",
      "source": [
        "X_full_columns, X_test_full_columns = encoding_quality_features(train_df.drop('LastName', axis=1), test_df.drop('LastName', axis=1))"
      ],
      "metadata": {
        "colab": {
          "base_uri": "https://localhost:8080/"
        },
        "id": "XERHCTM__wlr",
        "outputId": "e080b676-1e06-4164-e453-b256eb5a9208"
      },
      "execution_count": null,
      "outputs": [
        {
          "output_type": "stream",
          "name": "stderr",
          "text": [
            "/usr/local/lib/python3.10/dist-packages/sklearn/preprocessing/_encoders.py:868: FutureWarning: `sparse` was renamed to `sparse_output` in version 1.2 and will be removed in 1.4. `sparse_output` is ignored unless you leave `sparse` to its default value.\n",
            "  warnings.warn(\n"
          ]
        }
      ]
    },
    {
      "cell_type": "markdown",
      "source": [
        "# Моделирование"
      ],
      "metadata": {
        "id": "YuZ5MHeCDpKz"
      }
    },
    {
      "cell_type": "markdown",
      "source": [
        "Перед началом моделирования выберем признаки, необходимые для дальнейшей работы. Сперва оставим признаки в почти неизменном виде, как они были представлены в исходном датасете: CryoSleep, Age, VIP, RoomService, FoodCourt, ShoppingMall, Spa, VRDeck, Transported, 3 столбца HomePlanet_VALUE (полученные после one-hot encoding), 3 столбца Destination_VALUE (полученные после one-hot encoding). Затем будем менять набор фичей и смотреть, каким образом предобработка данных повлияла на результат предсказания."
      ],
      "metadata": {
        "id": "4_ty9mgXC_FS"
      }
    },
    {
      "cell_type": "code",
      "source": [
        "X_full_columns.columns"
      ],
      "metadata": {
        "colab": {
          "base_uri": "https://localhost:8080/"
        },
        "id": "VgcCNfwJDH3q",
        "outputId": "5ec1d10b-7d0a-4c63-d24c-e9f17d051421"
      },
      "execution_count": null,
      "outputs": [
        {
          "output_type": "execute_result",
          "data": {
            "text/plain": [
              "Index(['CryoSleep', 'Age', 'VIP', 'RoomService', 'FoodCourt', 'ShoppingMall',\n",
              "       'Spa', 'VRDeck', 'Transported', 'Shopping&FoodCourt',\n",
              "       'RoomService&VRDeck&Spa', 'IdGroup', 'IdNumber', 'Cabin_num',\n",
              "       'ServiceCost', 'Cabin_deck_orig_enc', 'Cabin_side_orig_enc',\n",
              "       'HomePlanet_Earth', 'HomePlanet_Europa', 'HomePlanet_Mars',\n",
              "       'HomePlanet_NONE', 'Destination_55 Cancri e', 'Destination_NONE',\n",
              "       'Destination_PSO J318.5-22', 'Destination_TRAPPIST-1e',\n",
              "       'AgeGroup_ADULT', 'AgeGroup_ELDERY', 'AgeGroup_YOUNG', 'Cabin_deck_A',\n",
              "       'Cabin_deck_B', 'Cabin_deck_C', 'Cabin_deck_D', 'Cabin_deck_E',\n",
              "       'Cabin_deck_F', 'Cabin_deck_G', 'Cabin_deck_T', 'Cabin_deck_nan',\n",
              "       'Cabin_side_P', 'Cabin_side_S', 'Cabin_side_nan'],\n",
              "      dtype='object')"
            ]
          },
          "metadata": {},
          "execution_count": 363
        }
      ]
    },
    {
      "cell_type": "code",
      "source": [
        "columns = ['CryoSleep', 'Age', 'VIP', 'RoomService', 'FoodCourt', 'ShoppingMall', 'Spa', 'VRDeck', 'Transported', 'HomePlanet_Earth',\n",
        "           'HomePlanet_Europa', 'HomePlanet_Mars', 'Destination_55 Cancri e', 'Destination_PSO J318.5-22', 'Destination_TRAPPIST-1e']"
      ],
      "metadata": {
        "id": "ahjHPpkLKN47"
      },
      "execution_count": null,
      "outputs": []
    },
    {
      "cell_type": "code",
      "source": [
        "X_data = X_full_columns[columns]"
      ],
      "metadata": {
        "id": "_-pHqrPCK4JN"
      },
      "execution_count": null,
      "outputs": []
    },
    {
      "cell_type": "code",
      "source": [
        "# X_data = X_full_columns.drop(['Age', 'RoomService', 'FoodCourt', 'ShoppingMall', 'Spa', 'VRDeck', 'ServiceCost', 'Cabin_side_P',\n",
        "#                      'Cabin_side_S', 'Cabin_side_nan', 'HomePlanet_NONE', 'Destination_NONE', 'Cabin_deck_nan'], axis=1)\n",
        "# X_test = X_test_full_columns.drop(['Age', 'RoomService', 'FoodCourt', 'ShoppingMall', 'Spa', 'VRDeck', 'ServiceCost', 'Cabin_side_P',\n",
        "#                      'Cabin_side_S', 'Cabin_side_nan', 'HomePlanet_NONE', 'Destination_NONE', 'Cabin_deck_nan'], axis=1)"
      ],
      "metadata": {
        "id": "lsSCSmGcEhO-"
      },
      "execution_count": null,
      "outputs": []
    },
    {
      "cell_type": "code",
      "source": [
        "from sklearn.model_selection import train_test_split\n",
        "\n",
        "y = X_data['Transported']\n",
        "X = X_data.drop('Transported', axis=1)\n",
        "X_train, X_valid, y_train, y_valid = train_test_split(\n",
        "    X, y, test_size=0.2, random_state=42, stratify=y)"
      ],
      "metadata": {
        "id": "KoMvMPAyEG8x"
      },
      "execution_count": null,
      "outputs": []
    },
    {
      "cell_type": "code",
      "source": [
        "from sklearn.ensemble import RandomForestClassifier\n",
        "from sklearn.metrics import precision_score, recall_score, f1_score\n",
        "\n",
        "model_rand_for = RandomForestClassifier(n_estimators=10, random_state=10)\n",
        "model_rand_for.fit(X_train, y_train)\n",
        "y_pred = model_rand_for.predict(X_valid)\n",
        "print(\"Precision:\", precision_score(y_valid, y_pred))\n",
        "print(\"Recall:\", recall_score(y_valid, y_pred))\n",
        "print(\"F1-score:\", f1_score(y_valid, y_pred))"
      ],
      "metadata": {
        "colab": {
          "base_uri": "https://localhost:8080/"
        },
        "id": "_u3xbppjDr6i",
        "outputId": "45310c8d-f12d-440a-8b2e-a0233ed88a58"
      },
      "execution_count": null,
      "outputs": [
        {
          "output_type": "stream",
          "name": "stdout",
          "text": [
            "Precision: 0.8002481389578163\n",
            "Recall: 0.7363013698630136\n",
            "F1-score: 0.7669441141498216\n"
          ]
        }
      ]
    },
    {
      "cell_type": "markdown",
      "source": [
        "Определимся с тем, какая метрика для нас наиболее показательная. Предположим, эта модель строится для банка, выдающего кредиты для покупки билетов на космический круиз. Вероятно, им будет важно знать, выживет ли пассажир в гипотетическом кораблекрушении и выплатит ли кредит. В данной ситуации обе ошибки FP и FN будут важны: в первом случае банк выдает кредит пассажиру с низкими шансами на выживание, таким образом теряя деньги при его гибели; во втором случае банк не дает кредит пассажиру, способному выжить после кораблекрушения, и теряет прибыль, которую он бы принес в банк. Таким образом, будем ориентироваться на метрику F1-score."
      ],
      "metadata": {
        "id": "YyrYQOxfLQTo"
      }
    },
    {
      "cell_type": "markdown",
      "source": [
        "Заменим числовые данные в столбцах 'RoomService', 'FoodCourt', 'ShoppingMall', 'Spa', 'VRDeck' на их сумму 'ServiceCost', а затем на 2 столбца: 'Shopping&FoodCourt' и 'RoomService&VRDeck&Spa'.\n"
      ],
      "metadata": {
        "id": "O_O1CjMgPM4j"
      }
    },
    {
      "cell_type": "code",
      "source": [
        "from sklearn.ensemble import RandomForestClassifier\n",
        "from sklearn.metrics import precision_score, recall_score, f1_score\n",
        "\n",
        "def split_model_predict(df):\n",
        "  '''\n",
        "  df:\n",
        "  return:\n",
        "  '''\n",
        "  y = df['Transported']\n",
        "  X = df.drop('Transported', axis=1)\n",
        "  X_train, X_valid, y_train, y_valid = train_test_split(X, y, test_size=0.2, random_state=42, stratify=y)\n",
        "\n",
        "  model_rand_for = RandomForestClassifier(n_estimators=10, random_state=10)\n",
        "  model_rand_for.fit(X_train, y_train)\n",
        "  y_pred = model_rand_for.predict(X_valid)\n",
        "\n",
        "  return precision_score(y_valid, y_pred), recall_score(y_valid, y_pred), f1_score(y_valid, y_pred)"
      ],
      "metadata": {
        "id": "WHqqFV1RPnlz"
      },
      "execution_count": null,
      "outputs": []
    },
    {
      "cell_type": "code",
      "source": [
        "# Оставляем 'ServiceCost'\n",
        "columns = ['CryoSleep', 'Age', 'VIP', 'ServiceCost', 'Transported', 'HomePlanet_Earth',\n",
        "           'HomePlanet_Europa', 'HomePlanet_Mars', 'Destination_55 Cancri e', 'Destination_PSO J318.5-22', 'Destination_TRAPPIST-1e']\n",
        "precision, recall, f1 = split_model_predict(X_full_columns[columns])\n",
        "print(\"Precision:\", precision)\n",
        "print(\"Recall:\", recall)\n",
        "print(\"F1-score:\", f1)"
      ],
      "metadata": {
        "colab": {
          "base_uri": "https://localhost:8080/"
        },
        "id": "2SixfKSbYznA",
        "outputId": "1b43f85c-6688-4285-b60c-81609b09a791"
      },
      "execution_count": null,
      "outputs": [
        {
          "output_type": "stream",
          "name": "stdout",
          "text": [
            "Precision: 0.711276332094176\n",
            "Recall: 0.6552511415525114\n",
            "F1-score: 0.6821152703505645\n"
          ]
        }
      ]
    },
    {
      "cell_type": "code",
      "source": [
        "# Оставляем 'Shopping&FoodCourt' и 'RoomService&VRDeck&Spa'\n",
        "columns = ['CryoSleep', 'Age', 'VIP', 'Shopping&FoodCourt', 'RoomService&VRDeck&Spa', 'Transported', 'HomePlanet_Earth',\n",
        "           'HomePlanet_Europa', 'HomePlanet_Mars', 'Destination_55 Cancri e', 'Destination_PSO J318.5-22', 'Destination_TRAPPIST-1e']\n",
        "precision, recall, f1 = split_model_predict(X_full_columns[columns])\n",
        "print(\"Precision:\", precision)\n",
        "print(\"Recall:\", recall)\n",
        "print(\"F1-score:\", f1)"
      ],
      "metadata": {
        "colab": {
          "base_uri": "https://localhost:8080/"
        },
        "id": "UlRoYVgLZg5b",
        "outputId": "932ffe1c-4bc6-41bd-dd43-b4f39ee09669"
      },
      "execution_count": null,
      "outputs": [
        {
          "output_type": "stream",
          "name": "stdout",
          "text": [
            "Precision: 0.7849462365591398\n",
            "Recall: 0.75\n",
            "F1-score: 0.7670753064798598\n"
          ]
        }
      ]
    },
    {
      "cell_type": "markdown",
      "source": [
        "Заменим колонку Age на AgeGroup."
      ],
      "metadata": {
        "id": "o-Y7BoGbbHs0"
      }
    },
    {
      "cell_type": "code",
      "source": [
        "# Меняем Age на AgeGroup_VALUE\n",
        "columns = ['CryoSleep',  'AgeGroup_ADULT', 'AgeGroup_ELDERY', 'AgeGroup_YOUNG', 'VIP', 'Shopping&FoodCourt', 'RoomService&VRDeck&Spa', 'Transported', 'HomePlanet_Earth',\n",
        "           'HomePlanet_Europa', 'HomePlanet_Mars', 'Destination_55 Cancri e', 'Destination_PSO J318.5-22', 'Destination_TRAPPIST-1e']\n",
        "precision, recall, f1 = split_model_predict(X_full_columns[columns])\n",
        "print(\"Precision:\", precision)\n",
        "print(\"Recall:\", recall)\n",
        "print(\"F1-score:\", f1)"
      ],
      "metadata": {
        "colab": {
          "base_uri": "https://localhost:8080/"
        },
        "id": "VvG1ahltbOtV",
        "outputId": "38dc1de8-c71d-463b-e930-89e63570011e"
      },
      "execution_count": null,
      "outputs": [
        {
          "output_type": "stream",
          "name": "stdout",
          "text": [
            "Precision: 0.7557251908396947\n",
            "Recall: 0.791095890410959\n",
            "F1-score: 0.7730061349693251\n"
          ]
        }
      ]
    },
    {
      "cell_type": "markdown",
      "source": [
        "Добавим информацию о кабине и ID пассажира."
      ],
      "metadata": {
        "id": "P9J-lCi2bnSr"
      }
    },
    {
      "cell_type": "code",
      "source": [
        "#\n",
        "columns = ['CryoSleep',  'AgeGroup_ADULT', 'AgeGroup_ELDERY', 'AgeGroup_YOUNG', 'VIP', 'Shopping&FoodCourt', 'RoomService&VRDeck&Spa', 'Transported', 'HomePlanet_Earth',\n",
        "           'HomePlanet_Europa', 'HomePlanet_Mars', 'Destination_55 Cancri e', 'Destination_PSO J318.5-22', 'Destination_TRAPPIST-1e', 'Cabin_deck_orig_enc', 'Cabin_side_orig_enc']\n",
        "precision, recall, f1 = split_model_predict(X_full_columns[columns])\n",
        "print(\"Precision:\", precision)\n",
        "print(\"Recall:\", recall)\n",
        "print(\"F1-score:\", f1)"
      ],
      "metadata": {
        "colab": {
          "base_uri": "https://localhost:8080/"
        },
        "id": "-IeMRH0kbtKo",
        "outputId": "021ecd4e-3b08-4b21-90bc-fcafadc66dbd"
      },
      "execution_count": null,
      "outputs": [
        {
          "output_type": "stream",
          "name": "stdout",
          "text": [
            "Precision: 0.7967667436489607\n",
            "Recall: 0.7876712328767124\n",
            "F1-score: 0.7921928817451206\n"
          ]
        }
      ]
    },
    {
      "cell_type": "code",
      "source": [
        "#\n",
        "columns = ['CryoSleep',  'AgeGroup_ADULT', 'AgeGroup_ELDERY', 'AgeGroup_YOUNG', 'VIP', 'Shopping&FoodCourt', 'RoomService&VRDeck&Spa', 'Transported', 'HomePlanet_Earth',\n",
        "           'HomePlanet_Europa', 'HomePlanet_Mars', 'Destination_55 Cancri e', 'Destination_PSO J318.5-22', 'Destination_TRAPPIST-1e', 'Cabin_deck_A',\n",
        "       'Cabin_deck_B', 'Cabin_deck_C', 'Cabin_deck_D', 'Cabin_deck_E',\n",
        "       'Cabin_deck_F', 'Cabin_deck_G', 'Cabin_deck_T', 'Cabin_deck_nan',\n",
        "       'Cabin_side_P', 'Cabin_side_S', 'Cabin_side_orig_enc']\n",
        "precision, recall, f1 = split_model_predict(X_full_columns[columns])\n",
        "print(\"Precision:\", precision)\n",
        "print(\"Recall:\", recall)\n",
        "print(\"F1-score:\", f1)"
      ],
      "metadata": {
        "colab": {
          "base_uri": "https://localhost:8080/"
        },
        "id": "SpJWaaz6co4X",
        "outputId": "61f021c6-dc12-4169-ea0f-496c6c0a1ef2"
      },
      "execution_count": null,
      "outputs": [
        {
          "output_type": "stream",
          "name": "stdout",
          "text": [
            "Precision: 0.796983758700696\n",
            "Recall: 0.7842465753424658\n",
            "F1-score: 0.7905638665132336\n"
          ]
        }
      ]
    },
    {
      "cell_type": "markdown",
      "source": [
        "## Нормирование данных"
      ],
      "metadata": {
        "id": "5KqJhyyxgfkb"
      }
    },
    {
      "cell_type": "code",
      "source": [
        "X_train_normed = (X_train-X_train.min())/(X_train.max()-X_train.min())\n",
        "X_valid_normed = (X_valid-X_valid.min())/(X_valid.max()-X_valid.min())"
      ],
      "metadata": {
        "id": "qU6ZE0Gigjbe"
      },
      "execution_count": null,
      "outputs": []
    },
    {
      "cell_type": "code",
      "source": [
        "model_rand_for.fit(X_train_normed, y_train)\n",
        "y_pred = model_rand_for.predict(X_valid_normed)\n",
        "print(\"Precision:\", precision_score(y_valid, y_pred))\n",
        "print(\"Recall:\", recall_score(y_valid, y_pred))\n",
        "print(\"F1-score:\", f1_score(y_valid, y_pred))"
      ],
      "metadata": {
        "colab": {
          "base_uri": "https://localhost:8080/"
        },
        "id": "099y8Q1IhTG0",
        "outputId": "072dd2d9-ec7a-42ec-a095-180fa98c424d"
      },
      "execution_count": null,
      "outputs": [
        {
          "output_type": "stream",
          "name": "stdout",
          "text": [
            "Precision: 0.8192019950124688\n",
            "Recall: 0.75\n",
            "F1-score: 0.7830750893921334\n"
          ]
        }
      ]
    }
  ]
}